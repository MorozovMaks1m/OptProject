{
  "nbformat": 4,
  "nbformat_minor": 0,
  "metadata": {
    "colab": {
      "provenance": []
    },
    "kernelspec": {
      "name": "python3",
      "display_name": "Python 3"
    },
    "language_info": {
      "name": "python"
    }
  },
  "cells": [
    {
      "cell_type": "markdown",
      "source": [
        "# Imports and setup"
      ],
      "metadata": {
        "id": "SPWY7mBfGSRX"
      }
    },
    {
      "cell_type": "code",
      "execution_count": null,
      "metadata": {
        "id": "-pV-LD9Zauy1"
      },
      "outputs": [],
      "source": [
        "import pandas as pd\n",
        "import numpy as np\n",
        "import matplotlib.pyplot as plt\n",
        "import seaborn as sns\n",
        "import warnings\n",
        "import tensorflow as tf\n",
        "from sklearn.metrics import mean_squared_error, mean_absolute_error\n",
        "from sklearn.linear_model import LinearRegression\n",
        "from sklearn.model_selection import train_test_split\n",
        "from sklearn.decomposition import TruncatedSVD, PCA\n",
        "from sklearn.random_projection import GaussianRandomProjection\n",
        "from xgboost import XGBRegressor\n",
        "from time import time\n",
        "warnings.filterwarnings('ignore')"
      ]
    },
    {
      "cell_type": "code",
      "source": [
        "ds = pd.read_csv('dataset_ver3.2.3.csv')\n",
        "ds.head()"
      ],
      "metadata": {
        "id": "LbK0a831a65f",
        "colab": {
          "base_uri": "https://localhost:8080/"
        },
        "outputId": "326a04a6-59bd-4823-a49f-d05b470c5b4f"
      },
      "execution_count": null,
      "outputs": [
        {
          "output_type": "execute_result",
          "data": {
            "text/plain": [
              "      Season  GW              Player                          Date Team  \\\n",
              "0  2017-2018   2    Marko Arnautovic  [datetime.date(2017, 8, 13)]  WHU   \n",
              "1  2017-2018   2       Ryan Bertrand  [datetime.date(2017, 8, 12)]  SOU   \n",
              "2  2017-2018   2  Abdoulaye Doucoure  [datetime.date(2017, 8, 12)]  WAT   \n",
              "3  2017-2018   2    Jonathan Walters  [datetime.date(2017, 8, 12)]  BUR   \n",
              "4  2017-2018   2    Antonio Valencia  [datetime.date(2017, 8, 13)]  MUN   \n",
              "\n",
              "  Opposition   Start        Pos   Min  Performance|Gls  ...  AstGW  CSGW  Ret  \\\n",
              "0  ['MUN_A']   ['Y']  ['LW,LM']  90.0                0  ...    0.0   0.0  0.0   \n",
              "1  ['SWA_H']   ['Y']     ['LB']  85.0                0  ...    0.0   0.0  0.0   \n",
              "2  ['LIV_H']   ['Y']     ['CM']  90.0                1  ...    0.0   1.0  0.0   \n",
              "3  ['CHE_A']   ['N']     ['FW']  16.0                0  ...    0.0   0.0  0.0   \n",
              "4  ['WHU_H']  ['Y*']     ['RB']  90.0                0  ...    0.0   1.0  1.0   \n",
              "\n",
              "   Points  for: Dist_avg  for: npxG_sum  for: npxG/Sh_avg  against: Dist_avg  \\\n",
              "0    -2.0           17.8            0.5              0.05               18.3   \n",
              "1     1.0           17.8            2.0              0.07               15.6   \n",
              "2     3.0           15.9            2.1              0.25               13.9   \n",
              "3     1.0           14.5            0.6              0.07               21.3   \n",
              "4     6.0           18.3            2.1              0.10               17.8   \n",
              "\n",
              "   against: npxG_sum  against: npxG/Sh_avg  \n",
              "0                2.1                  0.10  \n",
              "1                0.3                  0.07  \n",
              "2                1.8                  0.14  \n",
              "3                1.5                  0.08  \n",
              "4                0.5                  0.05  \n",
              "\n",
              "[5 rows x 119 columns]"
            ],
            "text/html": [
              "\n",
              "  <div id=\"df-ecd02fe6-c148-4960-bd3a-8c35a822d54a\" class=\"colab-df-container\">\n",
              "    <div>\n",
              "<style scoped>\n",
              "    .dataframe tbody tr th:only-of-type {\n",
              "        vertical-align: middle;\n",
              "    }\n",
              "\n",
              "    .dataframe tbody tr th {\n",
              "        vertical-align: top;\n",
              "    }\n",
              "\n",
              "    .dataframe thead th {\n",
              "        text-align: right;\n",
              "    }\n",
              "</style>\n",
              "<table border=\"1\" class=\"dataframe\">\n",
              "  <thead>\n",
              "    <tr style=\"text-align: right;\">\n",
              "      <th></th>\n",
              "      <th>Season</th>\n",
              "      <th>GW</th>\n",
              "      <th>Player</th>\n",
              "      <th>Date</th>\n",
              "      <th>Team</th>\n",
              "      <th>Opposition</th>\n",
              "      <th>Start</th>\n",
              "      <th>Pos</th>\n",
              "      <th>Min</th>\n",
              "      <th>Performance|Gls</th>\n",
              "      <th>...</th>\n",
              "      <th>AstGW</th>\n",
              "      <th>CSGW</th>\n",
              "      <th>Ret</th>\n",
              "      <th>Points</th>\n",
              "      <th>for: Dist_avg</th>\n",
              "      <th>for: npxG_sum</th>\n",
              "      <th>for: npxG/Sh_avg</th>\n",
              "      <th>against: Dist_avg</th>\n",
              "      <th>against: npxG_sum</th>\n",
              "      <th>against: npxG/Sh_avg</th>\n",
              "    </tr>\n",
              "  </thead>\n",
              "  <tbody>\n",
              "    <tr>\n",
              "      <th>0</th>\n",
              "      <td>2017-2018</td>\n",
              "      <td>2</td>\n",
              "      <td>Marko Arnautovic</td>\n",
              "      <td>[datetime.date(2017, 8, 13)]</td>\n",
              "      <td>WHU</td>\n",
              "      <td>['MUN_A']</td>\n",
              "      <td>['Y']</td>\n",
              "      <td>['LW,LM']</td>\n",
              "      <td>90.0</td>\n",
              "      <td>0</td>\n",
              "      <td>...</td>\n",
              "      <td>0.0</td>\n",
              "      <td>0.0</td>\n",
              "      <td>0.0</td>\n",
              "      <td>-2.0</td>\n",
              "      <td>17.8</td>\n",
              "      <td>0.5</td>\n",
              "      <td>0.05</td>\n",
              "      <td>18.3</td>\n",
              "      <td>2.1</td>\n",
              "      <td>0.10</td>\n",
              "    </tr>\n",
              "    <tr>\n",
              "      <th>1</th>\n",
              "      <td>2017-2018</td>\n",
              "      <td>2</td>\n",
              "      <td>Ryan Bertrand</td>\n",
              "      <td>[datetime.date(2017, 8, 12)]</td>\n",
              "      <td>SOU</td>\n",
              "      <td>['SWA_H']</td>\n",
              "      <td>['Y']</td>\n",
              "      <td>['LB']</td>\n",
              "      <td>85.0</td>\n",
              "      <td>0</td>\n",
              "      <td>...</td>\n",
              "      <td>0.0</td>\n",
              "      <td>0.0</td>\n",
              "      <td>0.0</td>\n",
              "      <td>1.0</td>\n",
              "      <td>17.8</td>\n",
              "      <td>2.0</td>\n",
              "      <td>0.07</td>\n",
              "      <td>15.6</td>\n",
              "      <td>0.3</td>\n",
              "      <td>0.07</td>\n",
              "    </tr>\n",
              "    <tr>\n",
              "      <th>2</th>\n",
              "      <td>2017-2018</td>\n",
              "      <td>2</td>\n",
              "      <td>Abdoulaye Doucoure</td>\n",
              "      <td>[datetime.date(2017, 8, 12)]</td>\n",
              "      <td>WAT</td>\n",
              "      <td>['LIV_H']</td>\n",
              "      <td>['Y']</td>\n",
              "      <td>['CM']</td>\n",
              "      <td>90.0</td>\n",
              "      <td>1</td>\n",
              "      <td>...</td>\n",
              "      <td>0.0</td>\n",
              "      <td>1.0</td>\n",
              "      <td>0.0</td>\n",
              "      <td>3.0</td>\n",
              "      <td>15.9</td>\n",
              "      <td>2.1</td>\n",
              "      <td>0.25</td>\n",
              "      <td>13.9</td>\n",
              "      <td>1.8</td>\n",
              "      <td>0.14</td>\n",
              "    </tr>\n",
              "    <tr>\n",
              "      <th>3</th>\n",
              "      <td>2017-2018</td>\n",
              "      <td>2</td>\n",
              "      <td>Jonathan Walters</td>\n",
              "      <td>[datetime.date(2017, 8, 12)]</td>\n",
              "      <td>BUR</td>\n",
              "      <td>['CHE_A']</td>\n",
              "      <td>['N']</td>\n",
              "      <td>['FW']</td>\n",
              "      <td>16.0</td>\n",
              "      <td>0</td>\n",
              "      <td>...</td>\n",
              "      <td>0.0</td>\n",
              "      <td>0.0</td>\n",
              "      <td>0.0</td>\n",
              "      <td>1.0</td>\n",
              "      <td>14.5</td>\n",
              "      <td>0.6</td>\n",
              "      <td>0.07</td>\n",
              "      <td>21.3</td>\n",
              "      <td>1.5</td>\n",
              "      <td>0.08</td>\n",
              "    </tr>\n",
              "    <tr>\n",
              "      <th>4</th>\n",
              "      <td>2017-2018</td>\n",
              "      <td>2</td>\n",
              "      <td>Antonio Valencia</td>\n",
              "      <td>[datetime.date(2017, 8, 13)]</td>\n",
              "      <td>MUN</td>\n",
              "      <td>['WHU_H']</td>\n",
              "      <td>['Y*']</td>\n",
              "      <td>['RB']</td>\n",
              "      <td>90.0</td>\n",
              "      <td>0</td>\n",
              "      <td>...</td>\n",
              "      <td>0.0</td>\n",
              "      <td>1.0</td>\n",
              "      <td>1.0</td>\n",
              "      <td>6.0</td>\n",
              "      <td>18.3</td>\n",
              "      <td>2.1</td>\n",
              "      <td>0.10</td>\n",
              "      <td>17.8</td>\n",
              "      <td>0.5</td>\n",
              "      <td>0.05</td>\n",
              "    </tr>\n",
              "  </tbody>\n",
              "</table>\n",
              "<p>5 rows × 119 columns</p>\n",
              "</div>\n",
              "    <div class=\"colab-df-buttons\">\n",
              "\n",
              "  <div class=\"colab-df-container\">\n",
              "    <button class=\"colab-df-convert\" onclick=\"convertToInteractive('df-ecd02fe6-c148-4960-bd3a-8c35a822d54a')\"\n",
              "            title=\"Convert this dataframe to an interactive table.\"\n",
              "            style=\"display:none;\">\n",
              "\n",
              "  <svg xmlns=\"http://www.w3.org/2000/svg\" height=\"24px\" viewBox=\"0 -960 960 960\">\n",
              "    <path d=\"M120-120v-720h720v720H120Zm60-500h600v-160H180v160Zm220 220h160v-160H400v160Zm0 220h160v-160H400v160ZM180-400h160v-160H180v160Zm440 0h160v-160H620v160ZM180-180h160v-160H180v160Zm440 0h160v-160H620v160Z\"/>\n",
              "  </svg>\n",
              "    </button>\n",
              "\n",
              "  <style>\n",
              "    .colab-df-container {\n",
              "      display:flex;\n",
              "      gap: 12px;\n",
              "    }\n",
              "\n",
              "    .colab-df-convert {\n",
              "      background-color: #E8F0FE;\n",
              "      border: none;\n",
              "      border-radius: 50%;\n",
              "      cursor: pointer;\n",
              "      display: none;\n",
              "      fill: #1967D2;\n",
              "      height: 32px;\n",
              "      padding: 0 0 0 0;\n",
              "      width: 32px;\n",
              "    }\n",
              "\n",
              "    .colab-df-convert:hover {\n",
              "      background-color: #E2EBFA;\n",
              "      box-shadow: 0px 1px 2px rgba(60, 64, 67, 0.3), 0px 1px 3px 1px rgba(60, 64, 67, 0.15);\n",
              "      fill: #174EA6;\n",
              "    }\n",
              "\n",
              "    .colab-df-buttons div {\n",
              "      margin-bottom: 4px;\n",
              "    }\n",
              "\n",
              "    [theme=dark] .colab-df-convert {\n",
              "      background-color: #3B4455;\n",
              "      fill: #D2E3FC;\n",
              "    }\n",
              "\n",
              "    [theme=dark] .colab-df-convert:hover {\n",
              "      background-color: #434B5C;\n",
              "      box-shadow: 0px 1px 3px 1px rgba(0, 0, 0, 0.15);\n",
              "      filter: drop-shadow(0px 1px 2px rgba(0, 0, 0, 0.3));\n",
              "      fill: #FFFFFF;\n",
              "    }\n",
              "  </style>\n",
              "\n",
              "    <script>\n",
              "      const buttonEl =\n",
              "        document.querySelector('#df-ecd02fe6-c148-4960-bd3a-8c35a822d54a button.colab-df-convert');\n",
              "      buttonEl.style.display =\n",
              "        google.colab.kernel.accessAllowed ? 'block' : 'none';\n",
              "\n",
              "      async function convertToInteractive(key) {\n",
              "        const element = document.querySelector('#df-ecd02fe6-c148-4960-bd3a-8c35a822d54a');\n",
              "        const dataTable =\n",
              "          await google.colab.kernel.invokeFunction('convertToInteractive',\n",
              "                                                    [key], {});\n",
              "        if (!dataTable) return;\n",
              "\n",
              "        const docLinkHtml = 'Like what you see? Visit the ' +\n",
              "          '<a target=\"_blank\" href=https://colab.research.google.com/notebooks/data_table.ipynb>data table notebook</a>'\n",
              "          + ' to learn more about interactive tables.';\n",
              "        element.innerHTML = '';\n",
              "        dataTable['output_type'] = 'display_data';\n",
              "        await google.colab.output.renderOutput(dataTable, element);\n",
              "        const docLink = document.createElement('div');\n",
              "        docLink.innerHTML = docLinkHtml;\n",
              "        element.appendChild(docLink);\n",
              "      }\n",
              "    </script>\n",
              "  </div>\n",
              "\n",
              "\n",
              "<div id=\"df-d473b7fd-2862-4c08-a665-1b426dcafdec\">\n",
              "  <button class=\"colab-df-quickchart\" onclick=\"quickchart('df-d473b7fd-2862-4c08-a665-1b426dcafdec')\"\n",
              "            title=\"Suggest charts\"\n",
              "            style=\"display:none;\">\n",
              "\n",
              "<svg xmlns=\"http://www.w3.org/2000/svg\" height=\"24px\"viewBox=\"0 0 24 24\"\n",
              "     width=\"24px\">\n",
              "    <g>\n",
              "        <path d=\"M19 3H5c-1.1 0-2 .9-2 2v14c0 1.1.9 2 2 2h14c1.1 0 2-.9 2-2V5c0-1.1-.9-2-2-2zM9 17H7v-7h2v7zm4 0h-2V7h2v10zm4 0h-2v-4h2v4z\"/>\n",
              "    </g>\n",
              "</svg>\n",
              "  </button>\n",
              "\n",
              "<style>\n",
              "  .colab-df-quickchart {\n",
              "      --bg-color: #E8F0FE;\n",
              "      --fill-color: #1967D2;\n",
              "      --hover-bg-color: #E2EBFA;\n",
              "      --hover-fill-color: #174EA6;\n",
              "      --disabled-fill-color: #AAA;\n",
              "      --disabled-bg-color: #DDD;\n",
              "  }\n",
              "\n",
              "  [theme=dark] .colab-df-quickchart {\n",
              "      --bg-color: #3B4455;\n",
              "      --fill-color: #D2E3FC;\n",
              "      --hover-bg-color: #434B5C;\n",
              "      --hover-fill-color: #FFFFFF;\n",
              "      --disabled-bg-color: #3B4455;\n",
              "      --disabled-fill-color: #666;\n",
              "  }\n",
              "\n",
              "  .colab-df-quickchart {\n",
              "    background-color: var(--bg-color);\n",
              "    border: none;\n",
              "    border-radius: 50%;\n",
              "    cursor: pointer;\n",
              "    display: none;\n",
              "    fill: var(--fill-color);\n",
              "    height: 32px;\n",
              "    padding: 0;\n",
              "    width: 32px;\n",
              "  }\n",
              "\n",
              "  .colab-df-quickchart:hover {\n",
              "    background-color: var(--hover-bg-color);\n",
              "    box-shadow: 0 1px 2px rgba(60, 64, 67, 0.3), 0 1px 3px 1px rgba(60, 64, 67, 0.15);\n",
              "    fill: var(--button-hover-fill-color);\n",
              "  }\n",
              "\n",
              "  .colab-df-quickchart-complete:disabled,\n",
              "  .colab-df-quickchart-complete:disabled:hover {\n",
              "    background-color: var(--disabled-bg-color);\n",
              "    fill: var(--disabled-fill-color);\n",
              "    box-shadow: none;\n",
              "  }\n",
              "\n",
              "  .colab-df-spinner {\n",
              "    border: 2px solid var(--fill-color);\n",
              "    border-color: transparent;\n",
              "    border-bottom-color: var(--fill-color);\n",
              "    animation:\n",
              "      spin 1s steps(1) infinite;\n",
              "  }\n",
              "\n",
              "  @keyframes spin {\n",
              "    0% {\n",
              "      border-color: transparent;\n",
              "      border-bottom-color: var(--fill-color);\n",
              "      border-left-color: var(--fill-color);\n",
              "    }\n",
              "    20% {\n",
              "      border-color: transparent;\n",
              "      border-left-color: var(--fill-color);\n",
              "      border-top-color: var(--fill-color);\n",
              "    }\n",
              "    30% {\n",
              "      border-color: transparent;\n",
              "      border-left-color: var(--fill-color);\n",
              "      border-top-color: var(--fill-color);\n",
              "      border-right-color: var(--fill-color);\n",
              "    }\n",
              "    40% {\n",
              "      border-color: transparent;\n",
              "      border-right-color: var(--fill-color);\n",
              "      border-top-color: var(--fill-color);\n",
              "    }\n",
              "    60% {\n",
              "      border-color: transparent;\n",
              "      border-right-color: var(--fill-color);\n",
              "    }\n",
              "    80% {\n",
              "      border-color: transparent;\n",
              "      border-right-color: var(--fill-color);\n",
              "      border-bottom-color: var(--fill-color);\n",
              "    }\n",
              "    90% {\n",
              "      border-color: transparent;\n",
              "      border-bottom-color: var(--fill-color);\n",
              "    }\n",
              "  }\n",
              "</style>\n",
              "\n",
              "  <script>\n",
              "    async function quickchart(key) {\n",
              "      const quickchartButtonEl =\n",
              "        document.querySelector('#' + key + ' button');\n",
              "      quickchartButtonEl.disabled = true;  // To prevent multiple clicks.\n",
              "      quickchartButtonEl.classList.add('colab-df-spinner');\n",
              "      try {\n",
              "        const charts = await google.colab.kernel.invokeFunction(\n",
              "            'suggestCharts', [key], {});\n",
              "      } catch (error) {\n",
              "        console.error('Error during call to suggestCharts:', error);\n",
              "      }\n",
              "      quickchartButtonEl.classList.remove('colab-df-spinner');\n",
              "      quickchartButtonEl.classList.add('colab-df-quickchart-complete');\n",
              "    }\n",
              "    (() => {\n",
              "      let quickchartButtonEl =\n",
              "        document.querySelector('#df-d473b7fd-2862-4c08-a665-1b426dcafdec button');\n",
              "      quickchartButtonEl.style.display =\n",
              "        google.colab.kernel.accessAllowed ? 'block' : 'none';\n",
              "    })();\n",
              "  </script>\n",
              "</div>\n",
              "\n",
              "    </div>\n",
              "  </div>\n"
            ],
            "application/vnd.google.colaboratory.intrinsic+json": {
              "type": "dataframe",
              "variable_name": "ds"
            }
          },
          "metadata": {},
          "execution_count": 2
        }
      ]
    },
    {
      "cell_type": "code",
      "source": [
        "np.unique(ds['Season'])"
      ],
      "metadata": {
        "colab": {
          "base_uri": "https://localhost:8080/"
        },
        "id": "jyFGoklibC_o",
        "outputId": "455660c6-7015-4971-ca6c-bfcaaf6ae88c"
      },
      "execution_count": null,
      "outputs": [
        {
          "output_type": "execute_result",
          "data": {
            "text/plain": [
              "array(['2017-2018', '2018-2019', '2019-2020', '2020-2021', '2021-2022',\n",
              "       '2022-2023', '2023-2024'], dtype=object)"
            ]
          },
          "metadata": {},
          "execution_count": 3
        }
      ]
    },
    {
      "cell_type": "code",
      "source": [
        "# Create a mapping of seasons to numbers\n",
        "season_mapping = {\n",
        "    '2017-2018': 1,\n",
        "    '2018-2019': 2,\n",
        "    '2019-2020': 3,\n",
        "    '2020-2021': 4,\n",
        "    '2021-2022': 5,\n",
        "    '2022-2023': 6,\n",
        "    '2023-2024': 7\n",
        "}\n",
        "\n",
        "# Replace season names with corresponding numbers\n",
        "ds['Season'] = ds['Season'].map(season_mapping)\n",
        "\n",
        "# Identify non-numeric columns (excluding 'Player')\n",
        "non_numeric_cols = ds.select_dtypes(exclude=np.number).columns\n",
        "cols_to_delete = [col for col in non_numeric_cols if col != 'Player']\n",
        "\n",
        "# Delete identified columns\n",
        "ds = ds.drop(columns=cols_to_delete)\n",
        "\n",
        "# Calculate NewGW\n",
        "ds['NewGW'] = (ds['Season'] - 1) * 38 + ds['GW']\n",
        "ds = ds.drop(columns=['GW', 'Season'])\n",
        "ds.head()"
      ],
      "metadata": {
        "colab": {
          "base_uri": "https://localhost:8080/"
        },
        "id": "QhDtzN_nbJX6",
        "outputId": "9e61984b-e280-413e-aefc-387bcdb3313e"
      },
      "execution_count": null,
      "outputs": [
        {
          "output_type": "execute_result",
          "data": {
            "text/plain": [
              "               Player   Min  Performance|Gls  Performance|Ast  Performance|PK  \\\n",
              "0    Marko Arnautovic  90.0                0                0               0   \n",
              "1       Ryan Bertrand  85.0                0                0               0   \n",
              "2  Abdoulaye Doucoure  90.0                1                0               0   \n",
              "3    Jonathan Walters  16.0                0                0               0   \n",
              "4    Antonio Valencia  90.0                0                0               0   \n",
              "\n",
              "   Performance|PKatt  Performance|Sh  Performance|SoT  Performance|CrdY  \\\n",
              "0                  0               2                0                 0   \n",
              "1                  0               1                0                 0   \n",
              "2                  0               1                1                 0   \n",
              "3                  0               0                0                 0   \n",
              "4                  0               1                0                 1   \n",
              "\n",
              "   Performance|CrdR  ...  CSGW  Ret  Points  for: Dist_avg  for: npxG_sum  \\\n",
              "0                 0  ...   0.0  0.0    -2.0           17.8            0.5   \n",
              "1                 0  ...   0.0  0.0     1.0           17.8            2.0   \n",
              "2                 0  ...   1.0  0.0     3.0           15.9            2.1   \n",
              "3                 0  ...   0.0  0.0     1.0           14.5            0.6   \n",
              "4                 0  ...   1.0  1.0     6.0           18.3            2.1   \n",
              "\n",
              "   for: npxG/Sh_avg  against: Dist_avg  against: npxG_sum  \\\n",
              "0              0.05               18.3                2.1   \n",
              "1              0.07               15.6                0.3   \n",
              "2              0.25               13.9                1.8   \n",
              "3              0.07               21.3                1.5   \n",
              "4              0.10               17.8                0.5   \n",
              "\n",
              "   against: npxG/Sh_avg  NewGW  \n",
              "0                  0.10      2  \n",
              "1                  0.07      2  \n",
              "2                  0.14      2  \n",
              "3                  0.08      2  \n",
              "4                  0.05      2  \n",
              "\n",
              "[5 rows x 111 columns]"
            ],
            "text/html": [
              "\n",
              "  <div id=\"df-de8e96e4-1b08-4a46-8345-f59078a2f8f8\" class=\"colab-df-container\">\n",
              "    <div>\n",
              "<style scoped>\n",
              "    .dataframe tbody tr th:only-of-type {\n",
              "        vertical-align: middle;\n",
              "    }\n",
              "\n",
              "    .dataframe tbody tr th {\n",
              "        vertical-align: top;\n",
              "    }\n",
              "\n",
              "    .dataframe thead th {\n",
              "        text-align: right;\n",
              "    }\n",
              "</style>\n",
              "<table border=\"1\" class=\"dataframe\">\n",
              "  <thead>\n",
              "    <tr style=\"text-align: right;\">\n",
              "      <th></th>\n",
              "      <th>Player</th>\n",
              "      <th>Min</th>\n",
              "      <th>Performance|Gls</th>\n",
              "      <th>Performance|Ast</th>\n",
              "      <th>Performance|PK</th>\n",
              "      <th>Performance|PKatt</th>\n",
              "      <th>Performance|Sh</th>\n",
              "      <th>Performance|SoT</th>\n",
              "      <th>Performance|CrdY</th>\n",
              "      <th>Performance|CrdR</th>\n",
              "      <th>...</th>\n",
              "      <th>CSGW</th>\n",
              "      <th>Ret</th>\n",
              "      <th>Points</th>\n",
              "      <th>for: Dist_avg</th>\n",
              "      <th>for: npxG_sum</th>\n",
              "      <th>for: npxG/Sh_avg</th>\n",
              "      <th>against: Dist_avg</th>\n",
              "      <th>against: npxG_sum</th>\n",
              "      <th>against: npxG/Sh_avg</th>\n",
              "      <th>NewGW</th>\n",
              "    </tr>\n",
              "  </thead>\n",
              "  <tbody>\n",
              "    <tr>\n",
              "      <th>0</th>\n",
              "      <td>Marko Arnautovic</td>\n",
              "      <td>90.0</td>\n",
              "      <td>0</td>\n",
              "      <td>0</td>\n",
              "      <td>0</td>\n",
              "      <td>0</td>\n",
              "      <td>2</td>\n",
              "      <td>0</td>\n",
              "      <td>0</td>\n",
              "      <td>0</td>\n",
              "      <td>...</td>\n",
              "      <td>0.0</td>\n",
              "      <td>0.0</td>\n",
              "      <td>-2.0</td>\n",
              "      <td>17.8</td>\n",
              "      <td>0.5</td>\n",
              "      <td>0.05</td>\n",
              "      <td>18.3</td>\n",
              "      <td>2.1</td>\n",
              "      <td>0.10</td>\n",
              "      <td>2</td>\n",
              "    </tr>\n",
              "    <tr>\n",
              "      <th>1</th>\n",
              "      <td>Ryan Bertrand</td>\n",
              "      <td>85.0</td>\n",
              "      <td>0</td>\n",
              "      <td>0</td>\n",
              "      <td>0</td>\n",
              "      <td>0</td>\n",
              "      <td>1</td>\n",
              "      <td>0</td>\n",
              "      <td>0</td>\n",
              "      <td>0</td>\n",
              "      <td>...</td>\n",
              "      <td>0.0</td>\n",
              "      <td>0.0</td>\n",
              "      <td>1.0</td>\n",
              "      <td>17.8</td>\n",
              "      <td>2.0</td>\n",
              "      <td>0.07</td>\n",
              "      <td>15.6</td>\n",
              "      <td>0.3</td>\n",
              "      <td>0.07</td>\n",
              "      <td>2</td>\n",
              "    </tr>\n",
              "    <tr>\n",
              "      <th>2</th>\n",
              "      <td>Abdoulaye Doucoure</td>\n",
              "      <td>90.0</td>\n",
              "      <td>1</td>\n",
              "      <td>0</td>\n",
              "      <td>0</td>\n",
              "      <td>0</td>\n",
              "      <td>1</td>\n",
              "      <td>1</td>\n",
              "      <td>0</td>\n",
              "      <td>0</td>\n",
              "      <td>...</td>\n",
              "      <td>1.0</td>\n",
              "      <td>0.0</td>\n",
              "      <td>3.0</td>\n",
              "      <td>15.9</td>\n",
              "      <td>2.1</td>\n",
              "      <td>0.25</td>\n",
              "      <td>13.9</td>\n",
              "      <td>1.8</td>\n",
              "      <td>0.14</td>\n",
              "      <td>2</td>\n",
              "    </tr>\n",
              "    <tr>\n",
              "      <th>3</th>\n",
              "      <td>Jonathan Walters</td>\n",
              "      <td>16.0</td>\n",
              "      <td>0</td>\n",
              "      <td>0</td>\n",
              "      <td>0</td>\n",
              "      <td>0</td>\n",
              "      <td>0</td>\n",
              "      <td>0</td>\n",
              "      <td>0</td>\n",
              "      <td>0</td>\n",
              "      <td>...</td>\n",
              "      <td>0.0</td>\n",
              "      <td>0.0</td>\n",
              "      <td>1.0</td>\n",
              "      <td>14.5</td>\n",
              "      <td>0.6</td>\n",
              "      <td>0.07</td>\n",
              "      <td>21.3</td>\n",
              "      <td>1.5</td>\n",
              "      <td>0.08</td>\n",
              "      <td>2</td>\n",
              "    </tr>\n",
              "    <tr>\n",
              "      <th>4</th>\n",
              "      <td>Antonio Valencia</td>\n",
              "      <td>90.0</td>\n",
              "      <td>0</td>\n",
              "      <td>0</td>\n",
              "      <td>0</td>\n",
              "      <td>0</td>\n",
              "      <td>1</td>\n",
              "      <td>0</td>\n",
              "      <td>1</td>\n",
              "      <td>0</td>\n",
              "      <td>...</td>\n",
              "      <td>1.0</td>\n",
              "      <td>1.0</td>\n",
              "      <td>6.0</td>\n",
              "      <td>18.3</td>\n",
              "      <td>2.1</td>\n",
              "      <td>0.10</td>\n",
              "      <td>17.8</td>\n",
              "      <td>0.5</td>\n",
              "      <td>0.05</td>\n",
              "      <td>2</td>\n",
              "    </tr>\n",
              "  </tbody>\n",
              "</table>\n",
              "<p>5 rows × 111 columns</p>\n",
              "</div>\n",
              "    <div class=\"colab-df-buttons\">\n",
              "\n",
              "  <div class=\"colab-df-container\">\n",
              "    <button class=\"colab-df-convert\" onclick=\"convertToInteractive('df-de8e96e4-1b08-4a46-8345-f59078a2f8f8')\"\n",
              "            title=\"Convert this dataframe to an interactive table.\"\n",
              "            style=\"display:none;\">\n",
              "\n",
              "  <svg xmlns=\"http://www.w3.org/2000/svg\" height=\"24px\" viewBox=\"0 -960 960 960\">\n",
              "    <path d=\"M120-120v-720h720v720H120Zm60-500h600v-160H180v160Zm220 220h160v-160H400v160Zm0 220h160v-160H400v160ZM180-400h160v-160H180v160Zm440 0h160v-160H620v160ZM180-180h160v-160H180v160Zm440 0h160v-160H620v160Z\"/>\n",
              "  </svg>\n",
              "    </button>\n",
              "\n",
              "  <style>\n",
              "    .colab-df-container {\n",
              "      display:flex;\n",
              "      gap: 12px;\n",
              "    }\n",
              "\n",
              "    .colab-df-convert {\n",
              "      background-color: #E8F0FE;\n",
              "      border: none;\n",
              "      border-radius: 50%;\n",
              "      cursor: pointer;\n",
              "      display: none;\n",
              "      fill: #1967D2;\n",
              "      height: 32px;\n",
              "      padding: 0 0 0 0;\n",
              "      width: 32px;\n",
              "    }\n",
              "\n",
              "    .colab-df-convert:hover {\n",
              "      background-color: #E2EBFA;\n",
              "      box-shadow: 0px 1px 2px rgba(60, 64, 67, 0.3), 0px 1px 3px 1px rgba(60, 64, 67, 0.15);\n",
              "      fill: #174EA6;\n",
              "    }\n",
              "\n",
              "    .colab-df-buttons div {\n",
              "      margin-bottom: 4px;\n",
              "    }\n",
              "\n",
              "    [theme=dark] .colab-df-convert {\n",
              "      background-color: #3B4455;\n",
              "      fill: #D2E3FC;\n",
              "    }\n",
              "\n",
              "    [theme=dark] .colab-df-convert:hover {\n",
              "      background-color: #434B5C;\n",
              "      box-shadow: 0px 1px 3px 1px rgba(0, 0, 0, 0.15);\n",
              "      filter: drop-shadow(0px 1px 2px rgba(0, 0, 0, 0.3));\n",
              "      fill: #FFFFFF;\n",
              "    }\n",
              "  </style>\n",
              "\n",
              "    <script>\n",
              "      const buttonEl =\n",
              "        document.querySelector('#df-de8e96e4-1b08-4a46-8345-f59078a2f8f8 button.colab-df-convert');\n",
              "      buttonEl.style.display =\n",
              "        google.colab.kernel.accessAllowed ? 'block' : 'none';\n",
              "\n",
              "      async function convertToInteractive(key) {\n",
              "        const element = document.querySelector('#df-de8e96e4-1b08-4a46-8345-f59078a2f8f8');\n",
              "        const dataTable =\n",
              "          await google.colab.kernel.invokeFunction('convertToInteractive',\n",
              "                                                    [key], {});\n",
              "        if (!dataTable) return;\n",
              "\n",
              "        const docLinkHtml = 'Like what you see? Visit the ' +\n",
              "          '<a target=\"_blank\" href=https://colab.research.google.com/notebooks/data_table.ipynb>data table notebook</a>'\n",
              "          + ' to learn more about interactive tables.';\n",
              "        element.innerHTML = '';\n",
              "        dataTable['output_type'] = 'display_data';\n",
              "        await google.colab.output.renderOutput(dataTable, element);\n",
              "        const docLink = document.createElement('div');\n",
              "        docLink.innerHTML = docLinkHtml;\n",
              "        element.appendChild(docLink);\n",
              "      }\n",
              "    </script>\n",
              "  </div>\n",
              "\n",
              "\n",
              "<div id=\"df-dee4ee6e-c265-417a-bc45-79f5b2e6ef7a\">\n",
              "  <button class=\"colab-df-quickchart\" onclick=\"quickchart('df-dee4ee6e-c265-417a-bc45-79f5b2e6ef7a')\"\n",
              "            title=\"Suggest charts\"\n",
              "            style=\"display:none;\">\n",
              "\n",
              "<svg xmlns=\"http://www.w3.org/2000/svg\" height=\"24px\"viewBox=\"0 0 24 24\"\n",
              "     width=\"24px\">\n",
              "    <g>\n",
              "        <path d=\"M19 3H5c-1.1 0-2 .9-2 2v14c0 1.1.9 2 2 2h14c1.1 0 2-.9 2-2V5c0-1.1-.9-2-2-2zM9 17H7v-7h2v7zm4 0h-2V7h2v10zm4 0h-2v-4h2v4z\"/>\n",
              "    </g>\n",
              "</svg>\n",
              "  </button>\n",
              "\n",
              "<style>\n",
              "  .colab-df-quickchart {\n",
              "      --bg-color: #E8F0FE;\n",
              "      --fill-color: #1967D2;\n",
              "      --hover-bg-color: #E2EBFA;\n",
              "      --hover-fill-color: #174EA6;\n",
              "      --disabled-fill-color: #AAA;\n",
              "      --disabled-bg-color: #DDD;\n",
              "  }\n",
              "\n",
              "  [theme=dark] .colab-df-quickchart {\n",
              "      --bg-color: #3B4455;\n",
              "      --fill-color: #D2E3FC;\n",
              "      --hover-bg-color: #434B5C;\n",
              "      --hover-fill-color: #FFFFFF;\n",
              "      --disabled-bg-color: #3B4455;\n",
              "      --disabled-fill-color: #666;\n",
              "  }\n",
              "\n",
              "  .colab-df-quickchart {\n",
              "    background-color: var(--bg-color);\n",
              "    border: none;\n",
              "    border-radius: 50%;\n",
              "    cursor: pointer;\n",
              "    display: none;\n",
              "    fill: var(--fill-color);\n",
              "    height: 32px;\n",
              "    padding: 0;\n",
              "    width: 32px;\n",
              "  }\n",
              "\n",
              "  .colab-df-quickchart:hover {\n",
              "    background-color: var(--hover-bg-color);\n",
              "    box-shadow: 0 1px 2px rgba(60, 64, 67, 0.3), 0 1px 3px 1px rgba(60, 64, 67, 0.15);\n",
              "    fill: var(--button-hover-fill-color);\n",
              "  }\n",
              "\n",
              "  .colab-df-quickchart-complete:disabled,\n",
              "  .colab-df-quickchart-complete:disabled:hover {\n",
              "    background-color: var(--disabled-bg-color);\n",
              "    fill: var(--disabled-fill-color);\n",
              "    box-shadow: none;\n",
              "  }\n",
              "\n",
              "  .colab-df-spinner {\n",
              "    border: 2px solid var(--fill-color);\n",
              "    border-color: transparent;\n",
              "    border-bottom-color: var(--fill-color);\n",
              "    animation:\n",
              "      spin 1s steps(1) infinite;\n",
              "  }\n",
              "\n",
              "  @keyframes spin {\n",
              "    0% {\n",
              "      border-color: transparent;\n",
              "      border-bottom-color: var(--fill-color);\n",
              "      border-left-color: var(--fill-color);\n",
              "    }\n",
              "    20% {\n",
              "      border-color: transparent;\n",
              "      border-left-color: var(--fill-color);\n",
              "      border-top-color: var(--fill-color);\n",
              "    }\n",
              "    30% {\n",
              "      border-color: transparent;\n",
              "      border-left-color: var(--fill-color);\n",
              "      border-top-color: var(--fill-color);\n",
              "      border-right-color: var(--fill-color);\n",
              "    }\n",
              "    40% {\n",
              "      border-color: transparent;\n",
              "      border-right-color: var(--fill-color);\n",
              "      border-top-color: var(--fill-color);\n",
              "    }\n",
              "    60% {\n",
              "      border-color: transparent;\n",
              "      border-right-color: var(--fill-color);\n",
              "    }\n",
              "    80% {\n",
              "      border-color: transparent;\n",
              "      border-right-color: var(--fill-color);\n",
              "      border-bottom-color: var(--fill-color);\n",
              "    }\n",
              "    90% {\n",
              "      border-color: transparent;\n",
              "      border-bottom-color: var(--fill-color);\n",
              "    }\n",
              "  }\n",
              "</style>\n",
              "\n",
              "  <script>\n",
              "    async function quickchart(key) {\n",
              "      const quickchartButtonEl =\n",
              "        document.querySelector('#' + key + ' button');\n",
              "      quickchartButtonEl.disabled = true;  // To prevent multiple clicks.\n",
              "      quickchartButtonEl.classList.add('colab-df-spinner');\n",
              "      try {\n",
              "        const charts = await google.colab.kernel.invokeFunction(\n",
              "            'suggestCharts', [key], {});\n",
              "      } catch (error) {\n",
              "        console.error('Error during call to suggestCharts:', error);\n",
              "      }\n",
              "      quickchartButtonEl.classList.remove('colab-df-spinner');\n",
              "      quickchartButtonEl.classList.add('colab-df-quickchart-complete');\n",
              "    }\n",
              "    (() => {\n",
              "      let quickchartButtonEl =\n",
              "        document.querySelector('#df-dee4ee6e-c265-417a-bc45-79f5b2e6ef7a button');\n",
              "      quickchartButtonEl.style.display =\n",
              "        google.colab.kernel.accessAllowed ? 'block' : 'none';\n",
              "    })();\n",
              "  </script>\n",
              "</div>\n",
              "\n",
              "    </div>\n",
              "  </div>\n"
            ],
            "application/vnd.google.colaboratory.intrinsic+json": {
              "type": "dataframe",
              "variable_name": "ds"
            }
          },
          "metadata": {},
          "execution_count": 4
        }
      ]
    },
    {
      "cell_type": "code",
      "source": [
        "# Number of unique players\n",
        "num_players = len(ds['Player'].unique())\n",
        "\n",
        "# Number of current columns (excluding 'Player' and 'NewGW')\n",
        "num_cols = len(ds.columns)\n",
        "\n",
        "# Number of unique NewGW values\n",
        "num_newgw = len(ds['NewGW'].unique())\n",
        "\n",
        "# Create an empty tensor (NumPy array)\n",
        "tensor_ds = np.zeros((num_players, num_cols, num_newgw))\n",
        "\n",
        "# Iterate through the DataFrame and populate the tensor\n",
        "player_mapping = {player: i for i, player in enumerate(ds['Player'].unique())}\n",
        "newgw_mapping = {newgw: i for i, newgw in enumerate(ds['NewGW'].unique())}\n",
        "\n",
        "\n",
        "for index, row in ds.iterrows():\n",
        "    player_index = player_mapping[row['Player']]\n",
        "    newgw_index = newgw_mapping[row['NewGW']]\n",
        "\n",
        "    # Iterate through the remaining columns and populate the tensor\n",
        "    for i, col in enumerate(ds.columns):\n",
        "      if col not in ['Player', 'NewGW']:\n",
        "        tensor_ds[player_index, i, newgw_index] = row[col]\n",
        "\n",
        "# Replace NaN values with 0\n",
        "tensor_ds = np.nan_to_num(tensor_ds)\n",
        "print(tensor_ds.shape)"
      ],
      "metadata": {
        "id": "6eXEWU6me7vN",
        "colab": {
          "base_uri": "https://localhost:8080/"
        },
        "outputId": "fd2d8b7a-9cc7-495f-af50-8d3cbacb62ba"
      },
      "execution_count": null,
      "outputs": [
        {
          "output_type": "stream",
          "name": "stdout",
          "text": [
            "(1416, 111, 258)\n"
          ]
        }
      ]
    },
    {
      "cell_type": "code",
      "source": [
        "# Find the index of the 'Points' column in the original DataFrame 'ds'\n",
        "try:\n",
        "  points_index = ds.columns.get_loc('Points')\n",
        "  print(f\"The index of the 'Points' column in the DataFrame is: {points_index}\")\n",
        "\n",
        "  # Now, use this index to access the corresponding data in the tensor\n",
        "  # Example: Accessing the points for the first player, in the first game week\n",
        "  # print(tensor_ds[0, points_index, 0])\n",
        "\n",
        "except KeyError:\n",
        "  print(\"'Points' column not found in the DataFrame.\")"
      ],
      "metadata": {
        "id": "kdUzTZCrHaMv",
        "colab": {
          "base_uri": "https://localhost:8080/"
        },
        "outputId": "29f3de8b-8f3b-414f-de06-201ac4595aa9"
      },
      "execution_count": null,
      "outputs": [
        {
          "output_type": "stream",
          "name": "stdout",
          "text": [
            "The index of the 'Points' column in the DataFrame is: 103\n"
          ]
        }
      ]
    },
    {
      "cell_type": "code",
      "source": [
        "# Define the number of weeks to look back for prediction\n",
        "lookback = 5\n",
        "\n",
        "# Define the training and testing data indices\n",
        "train_end = 200\n",
        "test_start = 201\n",
        "test_end = 258\n",
        "\n",
        "# Prepare the training data\n",
        "X_train = []\n",
        "y_train = []\n",
        "\n",
        "# Iterate over each player\n",
        "for player_index in range(tensor_ds.shape[0]):\n",
        "    # Iterate over the training weeks for the current player\n",
        "    for i in range(train_end - lookback):\n",
        "        if (tensor_ds[player_index, 103, i + lookback] == 0):\n",
        "            continue\n",
        "        X_train.append(tensor_ds[player_index, :, i:i + lookback])  # Keep 3D shape\n",
        "        y_train.append(tensor_ds[player_index, 103, i + lookback])  # Predict 'points' (assuming it's the first column)\n",
        "\n",
        "X_train = np.array(X_train)\n",
        "y_train = np.array(y_train)\n",
        "X_train.shape"
      ],
      "metadata": {
        "id": "YgoDGypTh8e5",
        "colab": {
          "base_uri": "https://localhost:8080/"
        },
        "outputId": "8216e815-1a1f-4d9e-db58-76fe40500b0b"
      },
      "execution_count": null,
      "outputs": [
        {
          "output_type": "execute_result",
          "data": {
            "text/plain": [
              "(48703, 111, 5)"
            ]
          },
          "metadata": {},
          "execution_count": 7
        }
      ]
    },
    {
      "cell_type": "code",
      "source": [
        "# Prepare the testing data\n",
        "X_test = []\n",
        "y_test = []\n",
        "\n",
        "# Iterate over each player\n",
        "for player_index in range(tensor_ds.shape[0]):\n",
        "    # Iterate over the testing weeks for the current player\n",
        "    for i in range(test_start - lookback, test_end - lookback):\n",
        "        X_test.append(tensor_ds[player_index, :, i:i + lookback])  # Keep 3D shape\n",
        "        y_test.append(tensor_ds[player_index, 103, i + lookback])\n",
        "\n",
        "X_test = np.array(X_test)\n",
        "y_test = np.array(y_test)\n",
        "X_test.shape"
      ],
      "metadata": {
        "id": "MXcUEB6yQR6r",
        "colab": {
          "base_uri": "https://localhost:8080/"
        },
        "outputId": "3d3b6547-4576-4b4c-daa9-c68f4ae635a4"
      },
      "execution_count": null,
      "outputs": [
        {
          "output_type": "execute_result",
          "data": {
            "text/plain": [
              "(80712, 111, 5)"
            ]
          },
          "metadata": {},
          "execution_count": 8
        }
      ]
    },
    {
      "cell_type": "markdown",
      "source": [
        "# Raw data training"
      ],
      "metadata": {
        "id": "qSHr0Za32lI3"
      }
    },
    {
      "cell_type": "code",
      "source": [
        "n_components_values = range(1, 102, 5)\n",
        "lin_times = {}\n",
        "lin_errors = {}\n",
        "for n_components in n_components_values:\n",
        "    print(f\"N_components: {n_components}\")\n",
        "    linear = LinearRegression()\n",
        "    timing, error = training_loop(linear, X_train, X_test, y_train, y_test, n_components = n_components)\n",
        "    print()\n",
        "    lin_times[n_components] = timing\n",
        "    lin_errors[n_components] = error"
      ],
      "metadata": {
        "collapsed": true,
        "id": "KX2QTdtr8lbN",
        "colab": {
          "base_uri": "https://localhost:8080/"
        },
        "outputId": "9f9dbd1b-7e91-4adf-9ce1-b6ac75d4f018"
      },
      "execution_count": null,
      "outputs": [
        {
          "output_type": "stream",
          "name": "stdout",
          "text": [
            "N_components: 1\n",
            "SVD - Mean Squared Error: 9.1279\n",
            "SVD - Mean Absolute Error: 2.8644\n",
            "SVD - Reduction time: 3.8776 seconds\n",
            "SVD - Train time: 0.0042 seconds\n",
            "\n",
            "N_components: 6\n",
            "SVD - Mean Squared Error: 8.0165\n",
            "SVD - Mean Absolute Error: 2.6657\n",
            "SVD - Reduction time: 4.1134 seconds\n",
            "SVD - Train time: 0.0327 seconds\n",
            "\n",
            "N_components: 11\n",
            "SVD - Mean Squared Error: 7.5348\n",
            "SVD - Mean Absolute Error: 2.5735\n",
            "SVD - Reduction time: 3.1064 seconds\n",
            "SVD - Train time: 0.1045 seconds\n",
            "\n",
            "N_components: 16\n",
            "SVD - Mean Squared Error: 6.6002\n",
            "SVD - Mean Absolute Error: 2.3797\n",
            "SVD - Reduction time: 2.5697 seconds\n",
            "SVD - Train time: 0.1058 seconds\n",
            "\n",
            "N_components: 21\n",
            "SVD - Mean Squared Error: 6.8122\n",
            "SVD - Mean Absolute Error: 2.4257\n",
            "SVD - Reduction time: 3.0522 seconds\n",
            "SVD - Train time: 0.1438 seconds\n",
            "\n",
            "N_components: 26\n",
            "SVD - Mean Squared Error: 6.7592\n",
            "SVD - Mean Absolute Error: 2.4151\n",
            "SVD - Reduction time: 4.3132 seconds\n",
            "SVD - Train time: 0.0532 seconds\n",
            "\n",
            "N_components: 31\n",
            "SVD - Mean Squared Error: 6.4715\n",
            "SVD - Mean Absolute Error: 2.3562\n",
            "SVD - Reduction time: 3.3312 seconds\n",
            "SVD - Train time: 0.1287 seconds\n",
            "\n",
            "N_components: 36\n",
            "SVD - Mean Squared Error: 7.0568\n",
            "SVD - Mean Absolute Error: 2.4802\n",
            "SVD - Reduction time: 3.6584 seconds\n",
            "SVD - Train time: 0.1407 seconds\n",
            "\n",
            "N_components: 41\n",
            "SVD - Mean Squared Error: 6.6701\n",
            "SVD - Mean Absolute Error: 2.4003\n",
            "SVD - Reduction time: 5.0901 seconds\n",
            "SVD - Train time: 0.6140 seconds\n",
            "\n",
            "N_components: 46\n",
            "SVD - Mean Squared Error: 6.7366\n",
            "SVD - Mean Absolute Error: 2.4144\n",
            "SVD - Reduction time: 4.1327 seconds\n",
            "SVD - Train time: 0.1745 seconds\n",
            "\n",
            "N_components: 51\n",
            "SVD - Mean Squared Error: 6.9955\n",
            "SVD - Mean Absolute Error: 2.4683\n",
            "SVD - Reduction time: 4.0618 seconds\n",
            "SVD - Train time: 0.1688 seconds\n",
            "\n",
            "N_components: 56\n",
            "SVD - Mean Squared Error: 6.9710\n",
            "SVD - Mean Absolute Error: 2.4631\n",
            "SVD - Reduction time: 5.8428 seconds\n",
            "SVD - Train time: 0.3946 seconds\n",
            "\n",
            "N_components: 61\n",
            "SVD - Mean Squared Error: 6.9592\n",
            "SVD - Mean Absolute Error: 2.4603\n",
            "SVD - Reduction time: 4.5593 seconds\n",
            "SVD - Train time: 0.2204 seconds\n",
            "\n",
            "N_components: 66\n",
            "SVD - Mean Squared Error: 6.9654\n",
            "SVD - Mean Absolute Error: 2.4608\n",
            "SVD - Reduction time: 4.6903 seconds\n",
            "SVD - Train time: 0.2267 seconds\n",
            "\n",
            "N_components: 71\n",
            "SVD - Mean Squared Error: 6.8899\n",
            "SVD - Mean Absolute Error: 2.4450\n",
            "SVD - Reduction time: 6.8729 seconds\n",
            "SVD - Train time: 0.2564 seconds\n",
            "\n",
            "N_components: 76\n",
            "SVD - Mean Squared Error: 6.8945\n",
            "SVD - Mean Absolute Error: 2.4463\n",
            "SVD - Reduction time: 5.0897 seconds\n",
            "SVD - Train time: 0.2617 seconds\n",
            "\n",
            "N_components: 81\n",
            "SVD - Mean Squared Error: 6.9257\n",
            "SVD - Mean Absolute Error: 2.4527\n",
            "SVD - Reduction time: 8.5660 seconds\n",
            "SVD - Train time: 0.3178 seconds\n",
            "\n",
            "N_components: 86\n",
            "SVD - Mean Squared Error: 6.9517\n",
            "SVD - Mean Absolute Error: 2.4585\n",
            "SVD - Reduction time: 5.3563 seconds\n",
            "SVD - Train time: 0.3133 seconds\n",
            "\n",
            "N_components: 91\n",
            "SVD - Mean Squared Error: 7.2644\n",
            "SVD - Mean Absolute Error: 2.5216\n",
            "SVD - Reduction time: 11.5963 seconds\n",
            "SVD - Train time: 0.3631 seconds\n",
            "\n",
            "N_components: 96\n",
            "SVD - Mean Squared Error: 7.3825\n",
            "SVD - Mean Absolute Error: 2.5447\n",
            "SVD - Reduction time: 5.9435 seconds\n",
            "SVD - Train time: 0.4147 seconds\n",
            "\n",
            "N_components: 101\n",
            "SVD - Mean Squared Error: 7.3701\n",
            "SVD - Mean Absolute Error: 2.5421\n",
            "SVD - Reduction time: 9.2358 seconds\n",
            "SVD - Train time: 0.4570 seconds\n",
            "\n"
          ]
        }
      ]
    },
    {
      "cell_type": "code",
      "source": [
        "# Create a Linear Regression model\n",
        "model = LinearRegression()\n",
        "\n",
        "# Record the start time\n",
        "start_time = time.time()\n",
        "\n",
        "# Fit the model to the training data\n",
        "model.fit(X_train.reshape(X_train.shape[0], -1), y_train)\n",
        "\n",
        "# Record the end time\n",
        "end_time = time.time()\n",
        "\n",
        "# Calculate the training time\n",
        "training_time = end_time - start_time\n",
        "\n",
        "# Make predictions on the training data\n",
        "y_pred_train = model.predict(X_train.reshape(X_train.shape[0], -1))\n",
        "\n",
        "# Calculate the Mean Squared Error (MSE)\n",
        "mse = mean_squared_error(y_train, y_pred_train)\n",
        "\n",
        "# Print the results\n",
        "print(f\"Training Time: {training_time:.4f} seconds\")\n",
        "print(f\"Mean Squared Error (MSE): {mse:.4f}\")"
      ],
      "metadata": {
        "id": "cY1Jc2247dK4"
      },
      "execution_count": null,
      "outputs": []
    },
    {
      "cell_type": "code",
      "source": [
        "plt.plot(n_components_values, lin_times.values(), label='Time', linestyle=':')\n",
        "plt.xlabel('Number of Components', fontsize=18)\n",
        "plt.ylabel('Time (seconds)', fontsize=18)\n",
        "plt.title('LR training time vs number of components',  fontsize=20)\n",
        "plt.legend()\n",
        "plt.grid(True, linestyle='--', alpha=0.7)\n",
        "plt.show()"
      ],
      "metadata": {
        "colab": {
          "base_uri": "https://localhost:8080/",
          "height": 490
        },
        "collapsed": true,
        "id": "Nia3s_Ajljbt",
        "outputId": "7fd9d29d-f3fe-40b0-d1e4-5e2362e2b3db"
      },
      "execution_count": null,
      "outputs": [
        {
          "output_type": "display_data",
          "data": {
            "text/plain": [
              "<Figure size 640x480 with 1 Axes>"
            ],
            "image/png": "[encoded data removed]"
          },
          "metadata": {}
        }
      ]
    },
    {
      "cell_type": "code",
      "source": [
        "plt.plot(n_components_values, lin_errors.values(), label='Test MSE', linestyle=':')\n",
        "plt.xlabel('Number of Components', fontsize=18)\n",
        "plt.ylabel('Test MSE', fontsize=18)\n",
        "plt.title('LR test MSE vs number of components',  fontsize=20)\n",
        "plt.legend()\n",
        "plt.grid(True, linestyle='--', alpha=0.7)\n",
        "plt.show()"
      ],
      "metadata": {
        "collapsed": true,
        "id": "a0s8G-O5mlGU"
      },
      "execution_count": null,
      "outputs": []
    },
    {
      "cell_type": "code",
      "source": [
        "n_components_values = range(1, 102, 5)\n",
        "xgb_times = {}\n",
        "xgb_errors = {}\n",
        "for n_components in n_components_values:\n",
        "    print(f\"N_components: {n_components}\")\n",
        "    xgb = XGBRegressor()\n",
        "    timing, error = training_loop(linear, X_train, X_test, y_train, y_test, n_components = n_components)\n",
        "    print()\n",
        "    xgb_times[n_components] = timing\n",
        "    xgb_errors[n_components] = error"
      ],
      "metadata": {
        "collapsed": true,
        "id": "IE9NmXupmeT8"
      },
      "execution_count": null,
      "outputs": []
    },
    {
      "cell_type": "code",
      "source": [
        "plt.plot(n_components_values, xgb_times.values(), label='Time', linestyle='--', color = 'green')\n",
        "plt.xlabel('Number of Components', fontsize=18)\n",
        "plt.ylabel('Time (seconds)', fontsize=18)\n",
        "plt.title('XGB training time vs number of components',  fontsize=20)\n",
        "plt.legend()\n",
        "plt.grid(True, linestyle='--', alpha=0.7)\n",
        "plt.show()"
      ],
      "metadata": {
        "collapsed": true,
        "id": "n9UgIFieotPF"
      },
      "execution_count": null,
      "outputs": []
    },
    {
      "cell_type": "code",
      "source": [
        "plt.plot(n_components_values, xgb_errors.values(), label='Test MSE', linestyle='--', color = 'green')\n",
        "plt.xlabel('Number of Components', fontsize=18)\n",
        "plt.ylabel('Test MSE', fontsize=18)\n",
        "plt.title('XGB test MSE vs number of components',  fontsize=20)\n",
        "plt.legend()\n",
        "plt.grid(True, linestyle='--', alpha=0.7)\n",
        "plt.show()"
      ],
      "metadata": {
        "colab": {
          "base_uri": "https://localhost:8080/",
          "height": 490
        },
        "collapsed": true,
        "id": "ug2k48lsotGB",
        "outputId": "52e2f931-a9b0-4f54-d9bd-b285a86cf371"
      },
      "execution_count": null,
      "outputs": [
        {
          "output_type": "display_data",
          "data": {
            "text/plain": [
              "<Figure size 640x480 with 1 Axes>"
            ],
            "image/png": "[encoded data removed]"
          },
          "metadata": {}
        }
      ]
    },
    {
      "cell_type": "code",
      "source": [
        "#linear\n",
        "rp_mse_values = []\n",
        "rp_mae_values = []\n",
        "rp_reduction_times = []\n",
        "rp_train_times = []\n",
        "rp_history = []\n",
        "\n",
        "for n_components in n_components_values:\n",
        "    #print(f\"N_components: {n_components}\")\n",
        "    model = LinearRegression()\n",
        "    mse, mae, reduction_time, train_time = train_model_with_reduction(model, X_train, X_test, y_train, y_test, 'rp', n_components=n_components)\n",
        "    rp_mse_values.append(mse)\n",
        "    rp_mae_values.append(mae)\n",
        "    rp_reduction_times.append(reduction_time)\n",
        "    rp_train_times.append(train_time)\n",
        "    plt.figure(figsize=(10, 6))\n",
        "\n",
        "svd_mse_values = []\n",
        "svd_mae_values = []\n",
        "svd_reduction_times = []\n",
        "svd_train_times = []\n",
        "svd_history = []\n",
        "\n",
        "for n_components in n_components_values:\n",
        "    #print(f\"N_components: {n_components}\")\n",
        "    model = LinearRegression()\n",
        "    mse, mae, reduction_time, train_time = train_model_with_reduction(model, X_train, X_test, y_train, y_test, 'svd', n_components=n_components)\n",
        "    svd_mse_values.append(mse)\n",
        "    svd_mae_values.append(mae)\n",
        "    svd_reduction_times.append(reduction_time)\n",
        "    svd_train_times.append(train_time)\n",
        "    plt.figure(figsize=(10, 6))\n",
        "\n",
        "pca_mse_values = []\n",
        "pca_mae_values = []\n",
        "pca_reduction_times = []\n",
        "pca_train_times = []\n",
        "pca_history = []\n",
        "\n",
        "for n_components in n_components_values:\n",
        "    #print(f\"N_components: {n_components}\")\n",
        "    model = LinearRegression()\n",
        "    mse, mae, reduction_time, train_time = train_model_with_reduction(model, X_train, X_test, y_train, y_test, 'pca', n_components=n_components)\n",
        "    pca_mse_values.append(mse)\n",
        "    pca_mae_values.append(mae)\n",
        "    pca_reduction_times.append(reduction_time)\n",
        "    pca_train_times.append(train_time)\n",
        "    plt.figure(figsize=(10, 6))"
      ],
      "metadata": {
        "colab": {
          "base_uri": "https://localhost:8080/",
          "height": 1000
        },
        "collapsed": true,
        "id": "dmivpwr4AnRo",
        "outputId": "7fd0ecfe-00a6-4946-9540-63405fd46307"
      },
      "execution_count": null,
      "outputs": [
        {
          "output_type": "display_data",
          "data": {
            "text/plain": [
              "<Figure size 1000x600 with 0 Axes>"
            ]
          },
          "metadata": {}
        },
        {
          "output_type": "display_data",
          "data": {
            "text/plain": [
              "<Figure size 1000x600 with 0 Axes>"
            ]
          },
          "metadata": {}
        },
        {
          "output_type": "display_data",
          "data": {
            "text/plain": [
              "<Figure size 1000x600 with 0 Axes>"
            ]
          },
          "metadata": {}
        },
        {
          "output_type": "display_data",
          "data": {
            "text/plain": [
              "<Figure size 1000x600 with 0 Axes>"
            ]
          },
          "metadata": {}
        },
        {
          "output_type": "display_data",
          "data": {
            "text/plain": [
              "<Figure size 1000x600 with 0 Axes>"
            ]
          },
          "metadata": {}
        },
        {
          "output_type": "display_data",
          "data": {
            "text/plain": [
              "<Figure size 1000x600 with 0 Axes>"
            ]
          },
          "metadata": {}
        },
        {
          "output_type": "display_data",
          "data": {
            "text/plain": [
              "<Figure size 1000x600 with 0 Axes>"
            ]
          },
          "metadata": {}
        },
        {
          "output_type": "display_data",
          "data": {
            "text/plain": [
              "<Figure size 1000x600 with 0 Axes>"
            ]
          },
          "metadata": {}
        },
        {
          "output_type": "display_data",
          "data": {
            "text/plain": [
              "<Figure size 1000x600 with 0 Axes>"
            ]
          },
          "metadata": {}
        },
        {
          "output_type": "display_data",
          "data": {
            "text/plain": [
              "<Figure size 1000x600 with 0 Axes>"
            ]
          },
          "metadata": {}
        },
        {
          "output_type": "display_data",
          "data": {
            "text/plain": [
              "<Figure size 1000x600 with 0 Axes>"
            ]
          },
          "metadata": {}
        },
        {
          "output_type": "display_data",
          "data": {
            "text/plain": [
              "<Figure size 1000x600 with 0 Axes>"
            ]
          },
          "metadata": {}
        },
        {
          "output_type": "display_data",
          "data": {
            "text/plain": [
              "<Figure size 1000x600 with 0 Axes>"
            ]
          },
          "metadata": {}
        },
        {
          "output_type": "display_data",
          "data": {
            "text/plain": [
              "<Figure size 1000x600 with 0 Axes>"
            ]
          },
          "metadata": {}
        },
        {
          "output_type": "display_data",
          "data": {
            "text/plain": [
              "<Figure size 1000x600 with 0 Axes>"
            ]
          },
          "metadata": {}
        },
        {
          "output_type": "display_data",
          "data": {
            "text/plain": [
              "<Figure size 1000x600 with 0 Axes>"
            ]
          },
          "metadata": {}
        },
        {
          "output_type": "display_data",
          "data": {
            "text/plain": [
              "<Figure size 1000x600 with 0 Axes>"
            ]
          },
          "metadata": {}
        },
        {
          "output_type": "display_data",
          "data": {
            "text/plain": [
              "<Figure size 1000x600 with 0 Axes>"
            ]
          },
          "metadata": {}
        },
        {
          "output_type": "display_data",
          "data": {
            "text/plain": [
              "<Figure size 1000x600 with 0 Axes>"
            ]
          },
          "metadata": {}
        },
        {
          "output_type": "display_data",
          "data": {
            "text/plain": [
              "<Figure size 1000x600 with 0 Axes>"
            ]
          },
          "metadata": {}
        },
        {
          "output_type": "display_data",
          "data": {
            "text/plain": [
              "<Figure size 1000x600 with 0 Axes>"
            ]
          },
          "metadata": {}
        },
        {
          "output_type": "display_data",
          "data": {
            "text/plain": [
              "<Figure size 1000x600 with 0 Axes>"
            ]
          },
          "metadata": {}
        },
        {
          "output_type": "display_data",
          "data": {
            "text/plain": [
              "<Figure size 1000x600 with 0 Axes>"
            ]
          },
          "metadata": {}
        },
        {
          "output_type": "display_data",
          "data": {
            "text/plain": [
              "<Figure size 1000x600 with 0 Axes>"
            ]
          },
          "metadata": {}
        },
        {
          "output_type": "display_data",
          "data": {
            "text/plain": [
              "<Figure size 1000x600 with 0 Axes>"
            ]
          },
          "metadata": {}
        },
        {
          "output_type": "display_data",
          "data": {
            "text/plain": [
              "<Figure size 1000x600 with 0 Axes>"
            ]
          },
          "metadata": {}
        },
        {
          "output_type": "display_data",
          "data": {
            "text/plain": [
              "<Figure size 1000x600 with 0 Axes>"
            ]
          },
          "metadata": {}
        },
        {
          "output_type": "display_data",
          "data": {
            "text/plain": [
              "<Figure size 1000x600 with 0 Axes>"
            ]
          },
          "metadata": {}
        },
        {
          "output_type": "display_data",
          "data": {
            "text/plain": [
              "<Figure size 1000x600 with 0 Axes>"
            ]
          },
          "metadata": {}
        },
        {
          "output_type": "display_data",
          "data": {
            "text/plain": [
              "<Figure size 1000x600 with 0 Axes>"
            ]
          },
          "metadata": {}
        },
        {
          "output_type": "display_data",
          "data": {
            "text/plain": [
              "<Figure size 1000x600 with 0 Axes>"
            ]
          },
          "metadata": {}
        },
        {
          "output_type": "display_data",
          "data": {
            "text/plain": [
              "<Figure size 1000x600 with 0 Axes>"
            ]
          },
          "metadata": {}
        },
        {
          "output_type": "display_data",
          "data": {
            "text/plain": [
              "<Figure size 1000x600 with 0 Axes>"
            ]
          },
          "metadata": {}
        },
        {
          "output_type": "display_data",
          "data": {
            "text/plain": [
              "<Figure size 1000x600 with 0 Axes>"
            ]
          },
          "metadata": {}
        },
        {
          "output_type": "display_data",
          "data": {
            "text/plain": [
              "<Figure size 1000x600 with 0 Axes>"
            ]
          },
          "metadata": {}
        },
        {
          "output_type": "display_data",
          "data": {
            "text/plain": [
              "<Figure size 1000x600 with 0 Axes>"
            ]
          },
          "metadata": {}
        },
        {
          "output_type": "display_data",
          "data": {
            "text/plain": [
              "<Figure size 1000x600 with 0 Axes>"
            ]
          },
          "metadata": {}
        },
        {
          "output_type": "display_data",
          "data": {
            "text/plain": [
              "<Figure size 1000x600 with 0 Axes>"
            ]
          },
          "metadata": {}
        },
        {
          "output_type": "display_data",
          "data": {
            "text/plain": [
              "<Figure size 1000x600 with 0 Axes>"
            ]
          },
          "metadata": {}
        },
        {
          "output_type": "display_data",
          "data": {
            "text/plain": [
              "<Figure size 1000x600 with 0 Axes>"
            ]
          },
          "metadata": {}
        },
        {
          "output_type": "display_data",
          "data": {
            "text/plain": [
              "<Figure size 1000x600 with 0 Axes>"
            ]
          },
          "metadata": {}
        },
        {
          "output_type": "display_data",
          "data": {
            "text/plain": [
              "<Figure size 1000x600 with 0 Axes>"
            ]
          },
          "metadata": {}
        },
        {
          "output_type": "display_data",
          "data": {
            "text/plain": [
              "<Figure size 1000x600 with 0 Axes>"
            ]
          },
          "metadata": {}
        },
        {
          "output_type": "display_data",
          "data": {
            "text/plain": [
              "<Figure size 1000x600 with 0 Axes>"
            ]
          },
          "metadata": {}
        },
        {
          "output_type": "display_data",
          "data": {
            "text/plain": [
              "<Figure size 1000x600 with 0 Axes>"
            ]
          },
          "metadata": {}
        },
        {
          "output_type": "display_data",
          "data": {
            "text/plain": [
              "<Figure size 1000x600 with 0 Axes>"
            ]
          },
          "metadata": {}
        },
        {
          "output_type": "display_data",
          "data": {
            "text/plain": [
              "<Figure size 1000x600 with 0 Axes>"
            ]
          },
          "metadata": {}
        },
        {
          "output_type": "display_data",
          "data": {
            "text/plain": [
              "<Figure size 1000x600 with 0 Axes>"
            ]
          },
          "metadata": {}
        },
        {
          "output_type": "display_data",
          "data": {
            "text/plain": [
              "<Figure size 1000x600 with 0 Axes>"
            ]
          },
          "metadata": {}
        },
        {
          "output_type": "display_data",
          "data": {
            "text/plain": [
              "<Figure size 1000x600 with 0 Axes>"
            ]
          },
          "metadata": {}
        },
        {
          "output_type": "display_data",
          "data": {
            "text/plain": [
              "<Figure size 1000x600 with 0 Axes>"
            ]
          },
          "metadata": {}
        },
        {
          "output_type": "display_data",
          "data": {
            "text/plain": [
              "<Figure size 1000x600 with 0 Axes>"
            ]
          },
          "metadata": {}
        },
        {
          "output_type": "display_data",
          "data": {
            "text/plain": [
              "<Figure size 1000x600 with 0 Axes>"
            ]
          },
          "metadata": {}
        },
        {
          "output_type": "display_data",
          "data": {
            "text/plain": [
              "<Figure size 1000x600 with 0 Axes>"
            ]
          },
          "metadata": {}
        },
        {
          "output_type": "display_data",
          "data": {
            "text/plain": [
              "<Figure size 1000x600 with 0 Axes>"
            ]
          },
          "metadata": {}
        },
        {
          "output_type": "display_data",
          "data": {
            "text/plain": [
              "<Figure size 1000x600 with 0 Axes>"
            ]
          },
          "metadata": {}
        },
        {
          "output_type": "display_data",
          "data": {
            "text/plain": [
              "<Figure size 1000x600 with 0 Axes>"
            ]
          },
          "metadata": {}
        },
        {
          "output_type": "display_data",
          "data": {
            "text/plain": [
              "<Figure size 1000x600 with 0 Axes>"
            ]
          },
          "metadata": {}
        },
        {
          "output_type": "display_data",
          "data": {
            "text/plain": [
              "<Figure size 1000x600 with 0 Axes>"
            ]
          },
          "metadata": {}
        },
        {
          "output_type": "display_data",
          "data": {
            "text/plain": [
              "<Figure size 1000x600 with 0 Axes>"
            ]
          },
          "metadata": {}
        },
        {
          "output_type": "display_data",
          "data": {
            "text/plain": [
              "<Figure size 1000x600 with 0 Axes>"
            ]
          },
          "metadata": {}
        },
        {
          "output_type": "display_data",
          "data": {
            "text/plain": [
              "<Figure size 1000x600 with 0 Axes>"
            ]
          },
          "metadata": {}
        },
        {
          "output_type": "display_data",
          "data": {
            "text/plain": [
              "<Figure size 1000x600 with 0 Axes>"
            ]
          },
          "metadata": {}
        }
      ]
    },
    {
      "cell_type": "code",
      "source": [
        "plt.plot(n_components_values, svd_mse_values, label='SVD', linestyle=':')\n",
        "plt.plot(n_components_values, pca_mse_values, label='PCA')\n",
        "plt.plot(n_components_values, rp_mse_values, label='RP', linestyle='--')\n",
        "plt.xlabel('Number of Components', fontsize=18)\n",
        "plt.ylabel('Test mean Squared Error (MSE)', fontsize=18)\n",
        "plt.title('LR test MSE vs Number of components',  fontsize=20)\n",
        "plt.legend(fontsize=12)\n",
        "plt.grid(True, linestyle='--', alpha=0.7) # Add a grid for better readability\n",
        "plt.show()"
      ],
      "metadata": {
        "id": "0t4nXVikvVY8",
        "colab": {
          "base_uri": "https://localhost:8080/",
          "height": 490
        },
        "outputId": "00f55e0e-c172-4ef1-cd79-f3e7a15725d6"
      },
      "execution_count": null,
      "outputs": [
        {
          "output_type": "display_data",
          "data": {
            "text/plain": [
              "<Figure size 640x480 with 1 Axes>"
            ],
            "image/png": "[encoded data removed]"
          },
          "metadata": {}
        }
      ]
    },
    {
      "cell_type": "code",
      "source": [
        "plt.plot(n_components_values, svd_train_times, label='SVD', linestyle=':')\n",
        "plt.plot(n_components_values, pca_train_times, label='PCA')\n",
        "plt.plot(n_components_values, rp_train_times, label='RP', linestyle='--')\n",
        "plt.xlabel('Number of Components', fontsize=18)\n",
        "plt.ylabel('Training time (seconds)', fontsize=18)\n",
        "plt.title('LR training time vs Number of components',  fontsize=20)\n",
        "plt.legend(fontsize=14)\n",
        "plt.grid(True, linestyle='--', alpha=0.7) # Add a grid for better readability"
      ],
      "metadata": {
        "colab": {
          "base_uri": "https://localhost:8080/",
          "height": 490
        },
        "id": "yM-FC-pyuUpN",
        "outputId": "73819c7c-c5c2-4b23-891e-5af7c288b354"
      },
      "execution_count": null,
      "outputs": [
        {
          "output_type": "display_data",
          "data": {
            "text/plain": [
              "<Figure size 640x480 with 1 Axes>"
            ],
            "image/png": "[encoded data removed]"
          },
          "metadata": {}
        }
      ]
    },
    {
      "cell_type": "code",
      "source": [
        "for n_components in n_components_values:\n",
        "    print(f\"N_components: {n_components}\")\n",
        "    print()\n",
        "    xgb = XGBRegressor()\n",
        "    training_loop(xgb, X_train, X_test, y_train, y_test, n_components = n_components)\n",
        "    print()"
      ],
      "metadata": {
        "colab": {
          "base_uri": "https://localhost:8080/"
        },
        "collapsed": true,
        "id": "n19s6k4v2Ho_",
        "outputId": "d96f485a-a85c-414f-c8cf-33be15286c9b"
      },
      "execution_count": null,
      "outputs": [
        {
          "output_type": "stream",
          "name": "stdout",
          "text": [
            "N_components: 1\n",
            "\n",
            "SVD - Mean Squared Error: 7.5368\n",
            "SVD - Mean Absolute Error: 2.5727\n",
            "SVD - Reduction time: 1.3714 seconds\n",
            "SVD - Train time: 0.2420 seconds\n",
            "PCA - Mean Squared Error: 7.5327\n",
            "PCA - Mean Absolute Error: 2.5716\n",
            "PCA - Reduction time: 1.1597 seconds\n",
            "PCA - Train time: 1.2020 seconds\n",
            "RP - Mean Squared Error: 8.0284\n",
            "RP - Mean Absolute Error: 2.6685\n",
            "RP - Reduction time: 0.2032 seconds\n",
            "RP - Train time: 0.6675 seconds\n",
            "\n",
            "N_components: 11\n",
            "\n",
            "SVD - Mean Squared Error: 7.8449\n",
            "SVD - Mean Absolute Error: 2.5956\n",
            "SVD - Reduction time: 2.7101 seconds\n",
            "SVD - Train time: 0.7827 seconds\n",
            "PCA - Mean Squared Error: 8.0033\n",
            "PCA - Mean Absolute Error: 2.6226\n",
            "PCA - Reduction time: 0.9940 seconds\n",
            "PCA - Train time: 0.7957 seconds\n",
            "RP - Mean Squared Error: 7.9872\n",
            "RP - Mean Absolute Error: 2.6370\n",
            "RP - Reduction time: 0.2847 seconds\n",
            "RP - Train time: 0.5604 seconds\n",
            "\n",
            "N_components: 21\n",
            "\n",
            "SVD - Mean Squared Error: 7.8504\n",
            "SVD - Mean Absolute Error: 2.5936\n",
            "SVD - Reduction time: 2.8677 seconds\n",
            "SVD - Train time: 2.8235 seconds\n",
            "PCA - Mean Squared Error: 8.0155\n",
            "PCA - Mean Absolute Error: 2.6285\n",
            "PCA - Reduction time: 2.0425 seconds\n",
            "PCA - Train time: 1.4443 seconds\n",
            "RP - Mean Squared Error: 7.9566\n",
            "RP - Mean Absolute Error: 2.6267\n",
            "RP - Reduction time: 0.3816 seconds\n",
            "RP - Train time: 1.0724 seconds\n",
            "\n",
            "N_components: 31\n",
            "\n",
            "SVD - Mean Squared Error: 7.8358\n",
            "SVD - Mean Absolute Error: 2.5920\n",
            "SVD - Reduction time: 3.5758 seconds\n",
            "SVD - Train time: 1.9782 seconds\n",
            "PCA - Mean Squared Error: 8.0896\n",
            "PCA - Mean Absolute Error: 2.6397\n",
            "PCA - Reduction time: 1.1315 seconds\n",
            "PCA - Train time: 4.7772 seconds\n",
            "RP - Mean Squared Error: 7.8700\n",
            "RP - Mean Absolute Error: 2.6144\n",
            "RP - Reduction time: 0.4260 seconds\n",
            "RP - Train time: 1.4030 seconds\n",
            "\n",
            "N_components: 41\n",
            "\n",
            "SVD - Mean Squared Error: 7.9426\n",
            "SVD - Mean Absolute Error: 2.6111\n",
            "SVD - Reduction time: 4.0167 seconds\n",
            "SVD - Train time: 2.6311 seconds\n",
            "PCA - Mean Squared Error: 7.9901\n",
            "PCA - Mean Absolute Error: 2.6168\n",
            "PCA - Reduction time: 1.8638 seconds\n",
            "PCA - Train time: 4.2597 seconds\n",
            "RP - Mean Squared Error: 7.9738\n",
            "RP - Mean Absolute Error: 2.6260\n",
            "RP - Reduction time: 0.4389 seconds\n",
            "RP - Train time: 1.9363 seconds\n",
            "\n",
            "N_components: 51\n",
            "\n",
            "SVD - Mean Squared Error: 8.0539\n",
            "SVD - Mean Absolute Error: 2.6272\n",
            "SVD - Reduction time: 4.3747 seconds\n",
            "SVD - Train time: 5.6070 seconds\n",
            "PCA - Mean Squared Error: 8.0354\n",
            "PCA - Mean Absolute Error: 2.6248\n",
            "PCA - Reduction time: 1.2104 seconds\n",
            "PCA - Train time: 3.2903 seconds\n",
            "RP - Mean Squared Error: 7.9423\n",
            "RP - Mean Absolute Error: 2.6221\n",
            "RP - Reduction time: 0.4782 seconds\n",
            "RP - Train time: 2.4655 seconds\n",
            "\n",
            "N_components: 61\n",
            "\n",
            "SVD - Mean Squared Error: 8.0578\n",
            "SVD - Mean Absolute Error: 2.6338\n",
            "SVD - Reduction time: 7.4087 seconds\n",
            "SVD - Train time: 3.8892 seconds\n",
            "PCA - Mean Squared Error: 8.0967\n",
            "PCA - Mean Absolute Error: 2.6370\n",
            "PCA - Reduction time: 1.2674 seconds\n",
            "PCA - Train time: 4.0865 seconds\n",
            "RP - Mean Squared Error: 8.0125\n",
            "RP - Mean Absolute Error: 2.6347\n",
            "RP - Reduction time: 1.0080 seconds\n",
            "RP - Train time: 4.7098 seconds\n",
            "\n",
            "N_components: 71\n",
            "\n",
            "SVD - Mean Squared Error: 7.9851\n",
            "SVD - Mean Absolute Error: 2.6201\n",
            "SVD - Reduction time: 5.3700 seconds\n",
            "SVD - Train time: 7.2888 seconds\n",
            "PCA - Mean Squared Error: 8.0344\n",
            "PCA - Mean Absolute Error: 2.6298\n",
            "PCA - Reduction time: 1.3101 seconds\n",
            "PCA - Train time: 4.5419 seconds\n",
            "RP - Mean Squared Error: 7.9860\n",
            "RP - Mean Absolute Error: 2.6295\n",
            "RP - Reduction time: 0.5899 seconds\n",
            "RP - Train time: 5.7545 seconds\n",
            "\n",
            "N_components: 81\n",
            "\n",
            "SVD - Mean Squared Error: 8.1323\n",
            "SVD - Mean Absolute Error: 2.6492\n",
            "SVD - Reduction time: 5.7393 seconds\n",
            "SVD - Train time: 8.0351 seconds\n",
            "PCA - Mean Squared Error: 7.9440\n",
            "PCA - Mean Absolute Error: 2.6102\n",
            "PCA - Reduction time: 1.3173 seconds\n",
            "PCA - Train time: 5.1845 seconds\n",
            "RP - Mean Squared Error: 8.0581\n",
            "RP - Mean Absolute Error: 2.6422\n",
            "RP - Reduction time: 0.6397 seconds\n",
            "RP - Train time: 6.7324 seconds\n",
            "\n",
            "N_components: 91\n",
            "\n",
            "SVD - Mean Squared Error: 8.0460\n",
            "SVD - Mean Absolute Error: 2.6319\n",
            "SVD - Reduction time: 6.2247 seconds\n",
            "SVD - Train time: 8.7466 seconds\n",
            "PCA - Mean Squared Error: 7.9996\n",
            "PCA - Mean Absolute Error: 2.6204\n",
            "PCA - Reduction time: 1.4236 seconds\n",
            "PCA - Train time: 6.0245 seconds\n",
            "RP - Mean Squared Error: 8.0571\n",
            "RP - Mean Absolute Error: 2.6352\n",
            "RP - Reduction time: 0.6890 seconds\n",
            "RP - Train time: 8.5933 seconds\n",
            "\n",
            "N_components: 101\n",
            "\n",
            "SVD - Mean Squared Error: 7.9959\n",
            "SVD - Mean Absolute Error: 2.6217\n",
            "SVD - Reduction time: 6.4827 seconds\n",
            "SVD - Train time: 9.3469 seconds\n",
            "PCA - Mean Squared Error: 8.0074\n",
            "PCA - Mean Absolute Error: 2.6225\n",
            "PCA - Reduction time: 1.4643 seconds\n",
            "PCA - Train time: 8.8113 seconds\n",
            "RP - Mean Squared Error: 8.1406\n",
            "RP - Mean Absolute Error: 2.6534\n",
            "RP - Reduction time: 0.7225 seconds\n",
            "RP - Train time: 4.4383 seconds\n",
            "\n"
          ]
        }
      ]
    },
    {
      "cell_type": "code",
      "source": [
        "rp_mse_values = []\n",
        "rp_mae_values = []\n",
        "rp_reduction_times = []\n",
        "rp_train_times = []\n",
        "rp_history = []\n",
        "\n",
        "for n_components in n_components_values:\n",
        "    print(f\"N_components: {n_components}\")\n",
        "    model = XGBRegressor()\n",
        "    mse, mae, reduction_time, train_time = train_model_with_reduction(model, X_train, X_test, y_train, y_test, 'rp', n_components=n_components)\n",
        "    rp_mse_values.append(mse)\n",
        "    rp_mae_values.append(mae)\n",
        "    rp_reduction_times.append(reduction_time)\n",
        "    rp_train_times.append(train_time)\n",
        "    plt.figure(figsize=(10, 6))\n",
        "\n",
        "svd_mse_values = []\n",
        "svd_mae_values = []\n",
        "svd_reduction_times = []\n",
        "svd_train_times = []\n",
        "svd_history = []\n",
        "\n",
        "for n_components in n_components_values:\n",
        "    print(f\"N_components: {n_components}\")\n",
        "    model = XGBRegressor()\n",
        "    mse, mae, reduction_time, train_time = train_model_with_reduction(model, X_train, X_test, y_train, y_test, 'svd', n_components=n_components)\n",
        "    svd_mse_values.append(mse)\n",
        "    svd_mae_values.append(mae)\n",
        "    svd_reduction_times.append(reduction_time)\n",
        "    svd_train_times.append(train_time)\n",
        "    plt.figure(figsize=(10, 6))\n",
        "\n",
        "pca_mse_values = []\n",
        "pca_mae_values = []\n",
        "pca_reduction_times = []\n",
        "pca_train_times = []\n",
        "pca_history = []\n",
        "\n",
        "for n_components in n_components_values:\n",
        "    print(f\"N_components: {n_components}\")\n",
        "    model = XGBRegressor()\n",
        "    mse, mae, reduction_time, train_time = train_model_with_reduction(model, X_train, X_test, y_train, y_test, 'pca', n_components=n_components)\n",
        "    pca_mse_values.append(mse)\n",
        "    pca_mae_values.append(mae)\n",
        "    pca_reduction_times.append(reduction_time)\n",
        "    pca_train_times.append(train_time)\n",
        "    plt.figure(figsize=(10, 6))"
      ],
      "metadata": {
        "colab": {
          "base_uri": "https://localhost:8080/",
          "height": 1000
        },
        "id": "GggN-1jxGEd5",
        "outputId": "220bf1b4-49b3-4a1e-b11b-8a64b5d24180"
      },
      "execution_count": null,
      "outputs": [
        {
          "output_type": "stream",
          "name": "stdout",
          "text": [
            "N_components: 1\n",
            "N_components: 6\n",
            "N_components: 11\n",
            "N_components: 16\n",
            "N_components: 21\n",
            "N_components: 26\n",
            "N_components: 31\n",
            "N_components: 36\n",
            "N_components: 41\n",
            "N_components: 46\n",
            "N_components: 51\n",
            "N_components: 56\n",
            "N_components: 61\n",
            "N_components: 66\n",
            "N_components: 71\n",
            "N_components: 76\n",
            "N_components: 81\n",
            "N_components: 86\n",
            "N_components: 91\n",
            "N_components: 96\n",
            "N_components: 101\n",
            "N_components: 1\n",
            "N_components: 6\n",
            "N_components: 11\n",
            "N_components: 16\n",
            "N_components: 21\n",
            "N_components: 26\n",
            "N_components: 31\n",
            "N_components: 36\n",
            "N_components: 41\n",
            "N_components: 46\n",
            "N_components: 51\n",
            "N_components: 56\n",
            "N_components: 61\n",
            "N_components: 66\n",
            "N_components: 71\n",
            "N_components: 76\n",
            "N_components: 81\n",
            "N_components: 86\n",
            "N_components: 91\n",
            "N_components: 96\n",
            "N_components: 101\n",
            "N_components: 1\n",
            "N_components: 6\n",
            "N_components: 11\n",
            "N_components: 16\n",
            "N_components: 21\n",
            "N_components: 26\n",
            "N_components: 31\n",
            "N_components: 36\n",
            "N_components: 41\n",
            "N_components: 46\n",
            "N_components: 51\n",
            "N_components: 56\n",
            "N_components: 61\n",
            "N_components: 66\n",
            "N_components: 71\n",
            "N_components: 76\n",
            "N_components: 81\n",
            "N_components: 86\n",
            "N_components: 91\n",
            "N_components: 96\n",
            "N_components: 101\n"
          ]
        },
        {
          "output_type": "display_data",
          "data": {
            "text/plain": [
              "<Figure size 1000x600 with 0 Axes>"
            ]
          },
          "metadata": {}
        },
        {
          "output_type": "display_data",
          "data": {
            "text/plain": [
              "<Figure size 1000x600 with 0 Axes>"
            ]
          },
          "metadata": {}
        },
        {
          "output_type": "display_data",
          "data": {
            "text/plain": [
              "<Figure size 1000x600 with 0 Axes>"
            ]
          },
          "metadata": {}
        },
        {
          "output_type": "display_data",
          "data": {
            "text/plain": [
              "<Figure size 1000x600 with 0 Axes>"
            ]
          },
          "metadata": {}
        },
        {
          "output_type": "display_data",
          "data": {
            "text/plain": [
              "<Figure size 1000x600 with 0 Axes>"
            ]
          },
          "metadata": {}
        },
        {
          "output_type": "display_data",
          "data": {
            "text/plain": [
              "<Figure size 1000x600 with 0 Axes>"
            ]
          },
          "metadata": {}
        },
        {
          "output_type": "display_data",
          "data": {
            "text/plain": [
              "<Figure size 1000x600 with 0 Axes>"
            ]
          },
          "metadata": {}
        },
        {
          "output_type": "display_data",
          "data": {
            "text/plain": [
              "<Figure size 1000x600 with 0 Axes>"
            ]
          },
          "metadata": {}
        },
        {
          "output_type": "display_data",
          "data": {
            "text/plain": [
              "<Figure size 1000x600 with 0 Axes>"
            ]
          },
          "metadata": {}
        },
        {
          "output_type": "display_data",
          "data": {
            "text/plain": [
              "<Figure size 1000x600 with 0 Axes>"
            ]
          },
          "metadata": {}
        },
        {
          "output_type": "display_data",
          "data": {
            "text/plain": [
              "<Figure size 1000x600 with 0 Axes>"
            ]
          },
          "metadata": {}
        },
        {
          "output_type": "display_data",
          "data": {
            "text/plain": [
              "<Figure size 1000x600 with 0 Axes>"
            ]
          },
          "metadata": {}
        },
        {
          "output_type": "display_data",
          "data": {
            "text/plain": [
              "<Figure size 1000x600 with 0 Axes>"
            ]
          },
          "metadata": {}
        },
        {
          "output_type": "display_data",
          "data": {
            "text/plain": [
              "<Figure size 1000x600 with 0 Axes>"
            ]
          },
          "metadata": {}
        },
        {
          "output_type": "display_data",
          "data": {
            "text/plain": [
              "<Figure size 1000x600 with 0 Axes>"
            ]
          },
          "metadata": {}
        },
        {
          "output_type": "display_data",
          "data": {
            "text/plain": [
              "<Figure size 1000x600 with 0 Axes>"
            ]
          },
          "metadata": {}
        },
        {
          "output_type": "display_data",
          "data": {
            "text/plain": [
              "<Figure size 1000x600 with 0 Axes>"
            ]
          },
          "metadata": {}
        },
        {
          "output_type": "display_data",
          "data": {
            "text/plain": [
              "<Figure size 1000x600 with 0 Axes>"
            ]
          },
          "metadata": {}
        },
        {
          "output_type": "display_data",
          "data": {
            "text/plain": [
              "<Figure size 1000x600 with 0 Axes>"
            ]
          },
          "metadata": {}
        },
        {
          "output_type": "display_data",
          "data": {
            "text/plain": [
              "<Figure size 1000x600 with 0 Axes>"
            ]
          },
          "metadata": {}
        },
        {
          "output_type": "display_data",
          "data": {
            "text/plain": [
              "<Figure size 1000x600 with 0 Axes>"
            ]
          },
          "metadata": {}
        },
        {
          "output_type": "display_data",
          "data": {
            "text/plain": [
              "<Figure size 1000x600 with 0 Axes>"
            ]
          },
          "metadata": {}
        },
        {
          "output_type": "display_data",
          "data": {
            "text/plain": [
              "<Figure size 1000x600 with 0 Axes>"
            ]
          },
          "metadata": {}
        },
        {
          "output_type": "display_data",
          "data": {
            "text/plain": [
              "<Figure size 1000x600 with 0 Axes>"
            ]
          },
          "metadata": {}
        },
        {
          "output_type": "display_data",
          "data": {
            "text/plain": [
              "<Figure size 1000x600 with 0 Axes>"
            ]
          },
          "metadata": {}
        },
        {
          "output_type": "display_data",
          "data": {
            "text/plain": [
              "<Figure size 1000x600 with 0 Axes>"
            ]
          },
          "metadata": {}
        },
        {
          "output_type": "display_data",
          "data": {
            "text/plain": [
              "<Figure size 1000x600 with 0 Axes>"
            ]
          },
          "metadata": {}
        },
        {
          "output_type": "display_data",
          "data": {
            "text/plain": [
              "<Figure size 1000x600 with 0 Axes>"
            ]
          },
          "metadata": {}
        },
        {
          "output_type": "display_data",
          "data": {
            "text/plain": [
              "<Figure size 1000x600 with 0 Axes>"
            ]
          },
          "metadata": {}
        },
        {
          "output_type": "display_data",
          "data": {
            "text/plain": [
              "<Figure size 1000x600 with 0 Axes>"
            ]
          },
          "metadata": {}
        },
        {
          "output_type": "display_data",
          "data": {
            "text/plain": [
              "<Figure size 1000x600 with 0 Axes>"
            ]
          },
          "metadata": {}
        },
        {
          "output_type": "display_data",
          "data": {
            "text/plain": [
              "<Figure size 1000x600 with 0 Axes>"
            ]
          },
          "metadata": {}
        },
        {
          "output_type": "display_data",
          "data": {
            "text/plain": [
              "<Figure size 1000x600 with 0 Axes>"
            ]
          },
          "metadata": {}
        },
        {
          "output_type": "display_data",
          "data": {
            "text/plain": [
              "<Figure size 1000x600 with 0 Axes>"
            ]
          },
          "metadata": {}
        },
        {
          "output_type": "display_data",
          "data": {
            "text/plain": [
              "<Figure size 1000x600 with 0 Axes>"
            ]
          },
          "metadata": {}
        },
        {
          "output_type": "display_data",
          "data": {
            "text/plain": [
              "<Figure size 1000x600 with 0 Axes>"
            ]
          },
          "metadata": {}
        },
        {
          "output_type": "display_data",
          "data": {
            "text/plain": [
              "<Figure size 1000x600 with 0 Axes>"
            ]
          },
          "metadata": {}
        },
        {
          "output_type": "display_data",
          "data": {
            "text/plain": [
              "<Figure size 1000x600 with 0 Axes>"
            ]
          },
          "metadata": {}
        },
        {
          "output_type": "display_data",
          "data": {
            "text/plain": [
              "<Figure size 1000x600 with 0 Axes>"
            ]
          },
          "metadata": {}
        },
        {
          "output_type": "display_data",
          "data": {
            "text/plain": [
              "<Figure size 1000x600 with 0 Axes>"
            ]
          },
          "metadata": {}
        },
        {
          "output_type": "display_data",
          "data": {
            "text/plain": [
              "<Figure size 1000x600 with 0 Axes>"
            ]
          },
          "metadata": {}
        },
        {
          "output_type": "display_data",
          "data": {
            "text/plain": [
              "<Figure size 1000x600 with 0 Axes>"
            ]
          },
          "metadata": {}
        },
        {
          "output_type": "display_data",
          "data": {
            "text/plain": [
              "<Figure size 1000x600 with 0 Axes>"
            ]
          },
          "metadata": {}
        },
        {
          "output_type": "display_data",
          "data": {
            "text/plain": [
              "<Figure size 1000x600 with 0 Axes>"
            ]
          },
          "metadata": {}
        },
        {
          "output_type": "display_data",
          "data": {
            "text/plain": [
              "<Figure size 1000x600 with 0 Axes>"
            ]
          },
          "metadata": {}
        },
        {
          "output_type": "display_data",
          "data": {
            "text/plain": [
              "<Figure size 1000x600 with 0 Axes>"
            ]
          },
          "metadata": {}
        },
        {
          "output_type": "display_data",
          "data": {
            "text/plain": [
              "<Figure size 1000x600 with 0 Axes>"
            ]
          },
          "metadata": {}
        },
        {
          "output_type": "display_data",
          "data": {
            "text/plain": [
              "<Figure size 1000x600 with 0 Axes>"
            ]
          },
          "metadata": {}
        },
        {
          "output_type": "display_data",
          "data": {
            "text/plain": [
              "<Figure size 1000x600 with 0 Axes>"
            ]
          },
          "metadata": {}
        },
        {
          "output_type": "display_data",
          "data": {
            "text/plain": [
              "<Figure size 1000x600 with 0 Axes>"
            ]
          },
          "metadata": {}
        },
        {
          "output_type": "display_data",
          "data": {
            "text/plain": [
              "<Figure size 1000x600 with 0 Axes>"
            ]
          },
          "metadata": {}
        },
        {
          "output_type": "display_data",
          "data": {
            "text/plain": [
              "<Figure size 1000x600 with 0 Axes>"
            ]
          },
          "metadata": {}
        },
        {
          "output_type": "display_data",
          "data": {
            "text/plain": [
              "<Figure size 1000x600 with 0 Axes>"
            ]
          },
          "metadata": {}
        },
        {
          "output_type": "display_data",
          "data": {
            "text/plain": [
              "<Figure size 1000x600 with 0 Axes>"
            ]
          },
          "metadata": {}
        },
        {
          "output_type": "display_data",
          "data": {
            "text/plain": [
              "<Figure size 1000x600 with 0 Axes>"
            ]
          },
          "metadata": {}
        },
        {
          "output_type": "display_data",
          "data": {
            "text/plain": [
              "<Figure size 1000x600 with 0 Axes>"
            ]
          },
          "metadata": {}
        },
        {
          "output_type": "display_data",
          "data": {
            "text/plain": [
              "<Figure size 1000x600 with 0 Axes>"
            ]
          },
          "metadata": {}
        },
        {
          "output_type": "display_data",
          "data": {
            "text/plain": [
              "<Figure size 1000x600 with 0 Axes>"
            ]
          },
          "metadata": {}
        },
        {
          "output_type": "display_data",
          "data": {
            "text/plain": [
              "<Figure size 1000x600 with 0 Axes>"
            ]
          },
          "metadata": {}
        },
        {
          "output_type": "display_data",
          "data": {
            "text/plain": [
              "<Figure size 1000x600 with 0 Axes>"
            ]
          },
          "metadata": {}
        },
        {
          "output_type": "display_data",
          "data": {
            "text/plain": [
              "<Figure size 1000x600 with 0 Axes>"
            ]
          },
          "metadata": {}
        },
        {
          "output_type": "display_data",
          "data": {
            "text/plain": [
              "<Figure size 1000x600 with 0 Axes>"
            ]
          },
          "metadata": {}
        },
        {
          "output_type": "display_data",
          "data": {
            "text/plain": [
              "<Figure size 1000x600 with 0 Axes>"
            ]
          },
          "metadata": {}
        }
      ]
    },
    {
      "cell_type": "code",
      "source": [
        "plt.plot(n_components_values, svd_mse_values, label='SVD', linestyle=':')\n",
        "plt.plot(n_components_values, pca_mse_values, label='PCA')\n",
        "plt.plot(n_components_values, rp_mse_values, label='RP', linestyle='--')\n",
        "plt.xlabel('Number of Components', fontsize=18)\n",
        "plt.ylabel('Test mean Squared Error (MSE)', fontsize=18)\n",
        "plt.title('XGB test MSE vs Number of components',  fontsize=20)\n",
        "plt.legend(fontsize=14)\n",
        "plt.grid(True, linestyle='--', alpha=0.7) # Add a grid for better readability\n",
        "plt.show()"
      ],
      "metadata": {
        "id": "-2zh8QVMvnQN",
        "colab": {
          "base_uri": "https://localhost:8080/",
          "height": 490
        },
        "outputId": "3c9b6029-ee7c-4d83-8e57-2b95dd0c3bea"
      },
      "execution_count": null,
      "outputs": [
        {
          "output_type": "display_data",
          "data": {
            "text/plain": [
              "<Figure size 640x480 with 1 Axes>"
            ],
            "image/png": "[encoded data removed]"
          },
          "metadata": {}
        }
      ]
    },
    {
      "cell_type": "code",
      "source": [
        "plt.plot(n_components_values, svd_train_times, label='SVD', linestyle=':')\n",
        "plt.plot(n_components_values, pca_train_times, label='PCA')\n",
        "plt.plot(n_components_values, rp_train_times, label='RP', linestyle='--')\n",
        "plt.xlabel('Number of Components', fontsize=18)\n",
        "plt.ylabel('Training time (seconds)', fontsize=18)\n",
        "plt.title('XGB training time vs Number of components',  fontsize=20)\n",
        "plt.legend(fontsize=14)\n",
        "plt.grid(True, linestyle='--', alpha=0.7) # Add a grid for better readability\n",
        "plt.show()"
      ],
      "metadata": {
        "id": "Z3HsFP3wvrAU",
        "colab": {
          "base_uri": "https://localhost:8080/",
          "height": 490
        },
        "outputId": "da47ba1b-73e1-4aab-b161-710dddb0355c"
      },
      "execution_count": null,
      "outputs": [
        {
          "output_type": "display_data",
          "data": {
            "text/plain": [
              "<Figure size 640x480 with 1 Axes>"
            ],
            "image/png": "[encoded data removed]"
          },
          "metadata": {}
        }
      ]
    },
    {
      "cell_type": "code",
      "source": [
        "start_time = time()  # Record the start time\n",
        "\n",
        "xgb_raw = XGBRegressor()\n",
        "xgb_raw.fit(X_train.reshape(X_train.shape[0], -1), y_train)\n",
        "y_pred = xgb_raw.predict(X_test.reshape(X_test.shape[0], -1))\n",
        "mse = mean_squared_error(y_test, y_pred)\n",
        "mae = mean_absolute_error(y_test, y_pred)\n",
        "\n",
        "end_time = time()  # Record the end time\n",
        "execution_time = end_time - start_time\n",
        "print(f\"Mean Squared Error: {mse}\")\n",
        "print(f\"Mean Absolute Error: {mae}\")\n",
        "print(f\"Execution Time: {execution_time} seconds\")"
      ],
      "metadata": {
        "colab": {
          "base_uri": "https://localhost:8080/"
        },
        "id": "U7sX1Ygy2oh9",
        "outputId": "cfa044df-03e5-423b-b19b-fe10965c78fb"
      },
      "execution_count": null,
      "outputs": [
        {
          "output_type": "stream",
          "name": "stdout",
          "text": [
            "Mean Squared Error: 7.5992386891578105\n",
            "Mean Absolute Error: 2.5459630457816496\n",
            "Execution Time: 22.969086170196533 seconds\n"
          ]
        }
      ]
    },
    {
      "cell_type": "code",
      "source": [
        "start_time = time()  # Record the start time\n",
        "\n",
        "lin_raw = LinearRegression()\n",
        "lin_raw.fit(X_train.reshape(X_train.shape[0], -1), y_train)\n",
        "y_pred = lin_raw.predict(X_test.reshape(X_test.shape[0], -1))\n",
        "mse = mean_squared_error(y_test, y_pred)\n",
        "mae = mean_absolute_error(y_test, y_pred)\n",
        "\n",
        "end_time = time()  # Record the end time\n",
        "execution_time = end_time - start_time\n",
        "print(f\"Mean Squared Error: {mse}\")\n",
        "print(f\"Mean Absolute Error: {mae}\")\n",
        "print(f\"Execution Time: {execution_time} seconds\")"
      ],
      "metadata": {
        "colab": {
          "base_uri": "https://localhost:8080/"
        },
        "id": "aCPEsRS878eg",
        "outputId": "ff6c1e67-f34b-41b9-a1de-bce6dc0c2fe8"
      },
      "execution_count": null,
      "outputs": [
        {
          "output_type": "stream",
          "name": "stdout",
          "text": [
            "Mean Squared Error: 7.210503707379171\n",
            "Mean Absolute Error: 2.4995040237022526\n",
            "Execution Time: 3.0912487506866455 seconds\n"
          ]
        }
      ]
    },
    {
      "cell_type": "code",
      "source": [
        "sns.histplot(y_train, kde=True)\n",
        "plt.title(\"Distribution of points of players in y_train\", fontsize = 20)\n",
        "plt.xlabel('Total points', fontsize = 18)\n",
        "plt.ylabel('Frequency', fontsize = 18)\n",
        "plt.show()"
      ],
      "metadata": {
        "colab": {
          "base_uri": "https://localhost:8080/",
          "height": 490
        },
        "id": "Cem0oPpCH7Dn",
        "outputId": "7209cc68-4474-412e-806e-75ec41920918"
      },
      "execution_count": null,
      "outputs": [
        {
          "output_type": "display_data",
          "data": {
            "text/plain": [
              "<Figure size 640x480 with 1 Axes>"
            ],
            "image/png": "[encoded data removed]"
          },
          "metadata": {}
        }
      ]
    },
    {
      "cell_type": "markdown",
      "source": [
        "# Define helper functions to train and evaluate the models"
      ],
      "metadata": {
        "id": "svY9MMiEGZb-"
      }
    },
    {
      "cell_type": "code",
      "source": [
        "# Function to apply dimensionality reduction and train a model\n",
        "\n",
        "def train_model_with_reduction(model, X_train, X_test, y_train, y_test, method, n_components=100):\n",
        "    start_time = time()\n",
        "    match method:\n",
        "        case 'svd':\n",
        "            reducer = TruncatedSVD(n_components=n_components)\n",
        "        case 'pca':\n",
        "            reducer = PCA(n_components=n_components)\n",
        "        case 'rp':\n",
        "            reducer = GaussianRandomProjection(n_components=n_components)  # Random Projection\n",
        "        case _:\n",
        "            raise ValueError(\"Invalid dimensionality reduction method.\")\n",
        "\n",
        "    # Reshape before reduction\n",
        "    X_train_reshaped = X_train.reshape(X_train.shape[0], -1)\n",
        "    X_test_reshaped = X_test.reshape(X_test.shape[0], -1)\n",
        "\n",
        "    # Apply dimensionality reduction\n",
        "    X_train_reduced = reducer.fit_transform(X_train_reshaped)\n",
        "    X_test_reduced = reducer.transform(X_test_reshaped)\n",
        "\n",
        "    reduction_time = time() - start_time\n",
        "\n",
        "    start_time = time()\n",
        "    model.fit(X_train_reduced, y_train) # Set verbose=0 to suppress training output\n",
        "    train_time = time() - start_time\n",
        "\n",
        "    y_pred = model.predict(X_test_reduced)\n",
        "    mse = mean_squared_error(y_test, y_pred)\n",
        "    mae = mean_absolute_error(y_test, y_pred)\n",
        "\n",
        "    return mse, mae, reduction_time, train_time\n",
        "\n",
        "\n",
        "\n",
        "\n",
        "def train_neural_network_with_reduction(model, X_train, X_test, y_train, y_test, method, n_components=100, epochs = 20):\n",
        "    start_time = time()\n",
        "    match method:\n",
        "        case 'svd':\n",
        "            reducer = TruncatedSVD(n_components=n_components)\n",
        "        case 'pca':\n",
        "            reducer = PCA(n_components=n_components)\n",
        "        case 'rp':\n",
        "            reducer = GaussianRandomProjection(n_components=n_components)  # Random Projection\n",
        "        case _:\n",
        "            raise ValueError(\"Invalid dimensionality reduction method.\")\n",
        "\n",
        "    # Reshape before reduction\n",
        "    X_train_reshaped = X_train.reshape(X_train.shape[0], -1)\n",
        "    X_test_reshaped = X_test.reshape(X_test.shape[0], -1)\n",
        "\n",
        "    # Apply dimensionality reduction\n",
        "    X_train_reduced = reducer.fit_transform(X_train_reshaped)\n",
        "    X_test_reduced = reducer.transform(X_test_reshaped)\n",
        "\n",
        "    reduction_time = time() - start_time\n",
        "\n",
        "    start_time = time()\n",
        "    history = model.fit(X_train_reduced,\n",
        "                    y_train,\n",
        "                    validation_data=(X_test_reduced, y_test),\n",
        "                    epochs=epochs)\n",
        "    train_time = time() - start_time\n",
        "\n",
        "    y_pred = model.predict(X_test_reduced)\n",
        "    mse = mean_squared_error(y_test, y_pred)\n",
        "\n",
        "    return mse, reduction_time, train_time, history\n",
        "\n",
        "\n",
        "\n",
        "# Test different dimensionality reduction methods\n",
        "def training_loop(model, X_train, X_test, y_train, y_test, n_components=100):\n",
        "    methods = ['svd', 'pca', 'rp']\n",
        "    results = {}\n",
        "    time = 0\n",
        "    for method in methods:\n",
        "        mse, mae, reduction_time, train_time = train_model_with_reduction(model, X_train, X_test, y_train, y_test, method, n_components = n_components)\n",
        "        results[method] = {\n",
        "            'mse': mse,\n",
        "            'mae': mae,\n",
        "            'reduction_time': reduction_time,\n",
        "            'train_time': train_time,\n",
        "        }\n",
        "        time += train_time\n",
        "        print(f\"{method.upper()} - Mean Squared Error: {mse:.4f}\")\n",
        "        print(f\"{method.upper()} - Mean Absolute Error: {mae:.4f}\")\n",
        "        print(f\"{method.upper()} - Reduction time: {reduction_time:.4f} seconds\")\n",
        "        print(f\"{method.upper()} - Train time: {train_time:.4f} seconds\")\n",
        "        return time, mse\n",
        "    return time, mse\n",
        "\n",
        "\n",
        "def neural_model_training_loop(model, X_train, X_test, y_train, y_test):\n",
        "    methods = ['svd', 'pca', 'rp']\n",
        "    results = {}\n",
        "\n",
        "    for method in methods:\n",
        "        mse, reduction_time, train_time, history = train_neural_network_with_reduction(model, X_train, X_test, y_train, y_test, method)\n",
        "        results[method] = {\n",
        "            'mse': mse,\n",
        "            'reduction_time': reduction_time,\n",
        "            'train_time': train_time,\n",
        "            # 'history': history\n",
        "        }\n",
        "        print(f\"{method.upper()} - Mean Squared Error: {mse:.4f}\")\n",
        "        print(f\"{method.upper()} - Reduction time: {reduction_time:.4f} seconds\")\n",
        "        print(f\"{method.upper()} - Train time: {train_time:.4f} seconds\")\n",
        "\n"
      ],
      "metadata": {
        "id": "bjc13PxbkWtO"
      },
      "execution_count": null,
      "outputs": []
    },
    {
      "cell_type": "markdown",
      "source": [
        "# Create the models we are going to use"
      ],
      "metadata": {
        "id": "FR2d06UxBFG2"
      }
    },
    {
      "cell_type": "markdown",
      "source": [
        "1. Linear Regression"
      ],
      "metadata": {
        "id": "Cv86bh5WBLVS"
      }
    },
    {
      "cell_type": "code",
      "source": [
        "linear_model = LinearRegression()"
      ],
      "metadata": {
        "id": "WLTNLP0wBEd-"
      },
      "execution_count": null,
      "outputs": []
    },
    {
      "cell_type": "code",
      "source": [
        "linear_model.get_params()"
      ],
      "metadata": {
        "colab": {
          "base_uri": "https://localhost:8080/"
        },
        "id": "4gN45wmexaRo",
        "outputId": "f8053b35-18e2-4d9f-d719-f5a1ac8b72d0"
      },
      "execution_count": null,
      "outputs": [
        {
          "output_type": "execute_result",
          "data": {
            "text/plain": [
              "{'copy_X': True, 'fit_intercept': True, 'n_jobs': None, 'positive': False}"
            ]
          },
          "metadata": {},
          "execution_count": 35
        }
      ]
    },
    {
      "cell_type": "markdown",
      "source": [
        "2. Small Neural Network"
      ],
      "metadata": {
        "id": "Nui79SR0B7YB"
      }
    },
    {
      "cell_type": "code",
      "source": [
        "neural_model_small = tf.keras.Sequential([\n",
        "    tf.keras.layers.Flatten(input_shape=(100,)),  # Flatten the input tensor\n",
        "    tf.keras.layers.Dense(128, activation='relu'),  # Hidden layer with ReLU activation\n",
        "    tf.keras.layers.Dense(64, activation='relu'),  # Hidden layer with ReLU activation\n",
        "    tf.keras.layers.Dense(1)  # Output layer for regression\n",
        "])\n",
        "\n",
        "# Compile the model\n",
        "neural_model_small.compile(\n",
        "    optimizer = tf.keras.optimizers.Adam(learning_rate=1e-4),\n",
        "    loss='mean_squared_error',\n",
        "    metrics=['mean_absolute_error']\n",
        ")"
      ],
      "metadata": {
        "id": "TarnNxd5B7KN"
      },
      "execution_count": null,
      "outputs": []
    },
    {
      "cell_type": "markdown",
      "source": [
        "3. Large Neural Network"
      ],
      "metadata": {
        "id": "18ygX2fRB6YQ"
      }
    },
    {
      "cell_type": "code",
      "source": [
        "neural_model_large = tf.keras.Sequential([\n",
        "    tf.keras.layers.Flatten(input_shape=(100,)),  # Flatten the input tensor\n",
        "    tf.keras.layers.Dense(256, activation='relu'),  # Hidden layer with ReLU activation\n",
        "    tf.keras.layers.Dense(128, activation='relu'),  # Hidden layer with ReLU activation\n",
        "    tf.keras.layers.Dense(64, activation='relu'),  # Hidden layer with ReLU activation\n",
        "    tf.keras.layers.Dense(32, activation='relu'),  # Hidden layer with ReLU activation\n",
        "    tf.keras.layers.Dense(1)  # Output layer for regression\n",
        "])\n",
        "\n",
        "# Compile the model\n",
        "neural_model_large.compile(\n",
        "    optimizer = tf.keras.optimizers.Adam(learning_rate=1e-4),\n",
        "    loss='mean_squared_error',\n",
        "    metrics=['mean_absolute_error']\n",
        ")"
      ],
      "metadata": {
        "id": "DBsvI94xB6In"
      },
      "execution_count": null,
      "outputs": []
    },
    {
      "cell_type": "markdown",
      "source": [
        "4. XGBRegressor"
      ],
      "metadata": {
        "id": "M9bPv5KTB5yN"
      }
    },
    {
      "cell_type": "code",
      "source": [
        "xgb_model = XGBRegressor()"
      ],
      "metadata": {
        "id": "PV_TuVFbB5VU"
      },
      "execution_count": null,
      "outputs": []
    },
    {
      "cell_type": "markdown",
      "source": [
        "# Fit and evaluate the models"
      ],
      "metadata": {
        "id": "JEGlO_tpGGKE"
      }
    },
    {
      "cell_type": "markdown",
      "source": [
        "1. Fit Linear Regression"
      ],
      "metadata": {
        "id": "xB31dbsNGrzO"
      }
    },
    {
      "cell_type": "code",
      "source": [
        "training_loop(linear_model, X_train, X_test, y_train, y_test)"
      ],
      "metadata": {
        "colab": {
          "base_uri": "https://localhost:8080/"
        },
        "id": "MJIns_oCGiM3",
        "outputId": "e754b2e4-0732-4e44-888c-55bd843829a7"
      },
      "execution_count": null,
      "outputs": [
        {
          "output_type": "stream",
          "name": "stdout",
          "text": [
            "SVD - Mean Squared Error: 7.3714\n",
            "SVD - Mean Absolute Error: 2.5424\n",
            "SVD - Reduction time: 6.9525 seconds\n",
            "SVD - Train time: 0.4917 seconds\n",
            "PCA - Mean Squared Error: 7.3532\n",
            "PCA - Mean Absolute Error: 2.5388\n",
            "PCA - Reduction time: 3.1075 seconds\n",
            "PCA - Train time: 2.3742 seconds\n",
            "RP - Mean Squared Error: 6.8116\n",
            "RP - Mean Absolute Error: 2.4312\n",
            "RP - Reduction time: 0.7225 seconds\n",
            "RP - Train time: 0.5048 seconds\n"
          ]
        }
      ]
    },
    {
      "cell_type": "markdown",
      "source": [
        "2. Fit Small Neural Network"
      ],
      "metadata": {
        "id": "Vn3I4YUdGsRK"
      }
    },
    {
      "cell_type": "code",
      "source": [
        "neural_model_training_loop(neural_model_small, X_train, X_test, y_train, y_test)"
      ],
      "metadata": {
        "colab": {
          "base_uri": "https://localhost:8080/"
        },
        "id": "dcezzPA9GiKR",
        "outputId": "c3c2a9d0-ba43-4599-b95a-8499dd15089f"
      },
      "execution_count": null,
      "outputs": [
        {
          "output_type": "stream",
          "name": "stdout",
          "text": [
            "Epoch 1/20\n",
            "\u001b[1m1522/1522\u001b[0m \u001b[32m━━━━━━━━━━━━━━━━━━━━\u001b[0m\u001b[37m\u001b[0m \u001b[1m9s\u001b[0m 5ms/step - loss: 76449064.0000 - mean_absolute_error: 2098.8882 - val_loss: 601629.5000 - val_mean_absolute_error: 130.3786\n",
            "Epoch 2/20\n",
            "\u001b[1m1522/1522\u001b[0m \u001b[32m━━━━━━━━━━━━━━━━━━━━\u001b[0m\u001b[37m\u001b[0m \u001b[1m8s\u001b[0m 4ms/step - loss: 2314119.0000 - mean_absolute_error: 565.5245 - val_loss: 622624.8750 - val_mean_absolute_error: 130.1378\n",
            "Epoch 3/20\n",
            "\u001b[1m1522/1522\u001b[0m \u001b[32m━━━━━━━━━━━━━━━━━━━━\u001b[0m\u001b[37m\u001b[0m \u001b[1m13s\u001b[0m 5ms/step - loss: 3036885.2500 - mean_absolute_error: 624.8636 - val_loss: 819071.8750 - val_mean_absolute_error: 194.0890\n",
            "Epoch 4/20\n",
            "\u001b[1m1522/1522\u001b[0m \u001b[32m━━━━━━━━━━━━━━━━━━━━\u001b[0m\u001b[37m\u001b[0m \u001b[1m8s\u001b[0m 5ms/step - loss: 2286890.5000 - mean_absolute_error: 543.8564 - val_loss: 628729.0625 - val_mean_absolute_error: 151.1427\n",
            "Epoch 5/20\n",
            "\u001b[1m1522/1522\u001b[0m \u001b[32m━━━━━━━━━━━━━━━━━━━━\u001b[0m\u001b[37m\u001b[0m \u001b[1m6s\u001b[0m 4ms/step - loss: 3317334.0000 - mean_absolute_error: 568.8315 - val_loss: 404642.1562 - val_mean_absolute_error: 126.1807\n",
            "Epoch 6/20\n",
            "\u001b[1m1522/1522\u001b[0m \u001b[32m━━━━━━━━━━━━━━━━━━━━\u001b[0m\u001b[37m\u001b[0m \u001b[1m11s\u001b[0m 4ms/step - loss: 673238.8750 - mean_absolute_error: 291.1477 - val_loss: 23215112.0000 - val_mean_absolute_error: 1058.0961\n",
            "Epoch 7/20\n",
            "\u001b[1m1522/1522\u001b[0m \u001b[32m━━━━━━━━━━━━━━━━━━━━\u001b[0m\u001b[37m\u001b[0m \u001b[1m14s\u001b[0m 9ms/step - loss: 4017232.5000 - mean_absolute_error: 642.8055 - val_loss: 1322143.0000 - val_mean_absolute_error: 152.0794\n",
            "Epoch 8/20\n",
            "\u001b[1m1522/1522\u001b[0m \u001b[32m━━━━━━━━━━━━━━━━━━━━\u001b[0m\u001b[37m\u001b[0m \u001b[1m16s\u001b[0m 7ms/step - loss: 4293249.5000 - mean_absolute_error: 551.0508 - val_loss: 7937643.5000 - val_mean_absolute_error: 631.5046\n",
            "Epoch 9/20\n",
            "\u001b[1m1522/1522\u001b[0m \u001b[32m━━━━━━━━━━━━━━━━━━━━\u001b[0m\u001b[37m\u001b[0m \u001b[1m6s\u001b[0m 4ms/step - loss: 1152857.3750 - mean_absolute_error: 361.9903 - val_loss: 405418.4375 - val_mean_absolute_error: 108.2942\n",
            "Epoch 10/20\n",
            "\u001b[1m1522/1522\u001b[0m \u001b[32m━━━━━━━━━━━━━━━━━━━━\u001b[0m\u001b[37m\u001b[0m \u001b[1m12s\u001b[0m 5ms/step - loss: 3474161.0000 - mean_absolute_error: 599.5647 - val_loss: 88215.3047 - val_mean_absolute_error: 54.6447\n",
            "Epoch 11/20\n",
            "\u001b[1m1522/1522\u001b[0m \u001b[32m━━━━━━━━━━━━━━━━━━━━\u001b[0m\u001b[37m\u001b[0m \u001b[1m7s\u001b[0m 5ms/step - loss: 686118.0000 - mean_absolute_error: 287.9698 - val_loss: 1032012.3750 - val_mean_absolute_error: 198.0502\n",
            "Epoch 12/20\n",
            "\u001b[1m1522/1522\u001b[0m \u001b[32m━━━━━━━━━━━━━━━━━━━━\u001b[0m\u001b[37m\u001b[0m \u001b[1m11s\u001b[0m 6ms/step - loss: 1159022.5000 - mean_absolute_error: 368.6573 - val_loss: 186294.3906 - val_mean_absolute_error: 94.0791\n",
            "Epoch 13/20\n",
            "\u001b[1m1522/1522\u001b[0m \u001b[32m━━━━━━━━━━━━━━━━━━━━\u001b[0m\u001b[37m\u001b[0m \u001b[1m6s\u001b[0m 4ms/step - loss: 5191204.0000 - mean_absolute_error: 638.7302 - val_loss: 483658.6250 - val_mean_absolute_error: 96.5619\n",
            "Epoch 14/20\n",
            "\u001b[1m1522/1522\u001b[0m \u001b[32m━━━━━━━━━━━━━━━━━━━━\u001b[0m\u001b[37m\u001b[0m \u001b[1m9s\u001b[0m 6ms/step - loss: 2090862.1250 - mean_absolute_error: 405.3992 - val_loss: 1077016.3750 - val_mean_absolute_error: 222.5961\n",
            "Epoch 15/20\n",
            "\u001b[1m1522/1522\u001b[0m \u001b[32m━━━━━━━━━━━━━━━━━━━━\u001b[0m\u001b[37m\u001b[0m \u001b[1m7s\u001b[0m 5ms/step - loss: 1135204.1250 - mean_absolute_error: 349.1322 - val_loss: 103845.6328 - val_mean_absolute_error: 64.0348\n",
            "Epoch 16/20\n",
            "\u001b[1m1522/1522\u001b[0m \u001b[32m━━━━━━━━━━━━━━━━━━━━\u001b[0m\u001b[37m\u001b[0m \u001b[1m8s\u001b[0m 5ms/step - loss: 717126.9375 - mean_absolute_error: 267.2938 - val_loss: 141779.9844 - val_mean_absolute_error: 74.3088\n",
            "Epoch 17/20\n",
            "\u001b[1m1522/1522\u001b[0m \u001b[32m━━━━━━━━━━━━━━━━━━━━\u001b[0m\u001b[37m\u001b[0m \u001b[1m9s\u001b[0m 4ms/step - loss: 3099350.7500 - mean_absolute_error: 478.6703 - val_loss: 1110087.5000 - val_mean_absolute_error: 231.3233\n",
            "Epoch 18/20\n",
            "\u001b[1m1522/1522\u001b[0m \u001b[32m━━━━━━━━━━━━━━━━━━━━\u001b[0m\u001b[37m\u001b[0m \u001b[1m12s\u001b[0m 5ms/step - loss: 822853.1875 - mean_absolute_error: 303.1285 - val_loss: 41555.7695 - val_mean_absolute_error: 38.3870\n",
            "Epoch 19/20\n",
            "\u001b[1m1522/1522\u001b[0m \u001b[32m━━━━━━━━━━━━━━━━━━━━\u001b[0m\u001b[37m\u001b[0m \u001b[1m8s\u001b[0m 4ms/step - loss: 1673147.6250 - mean_absolute_error: 348.2461 - val_loss: 135334.4062 - val_mean_absolute_error: 71.7795\n",
            "Epoch 20/20\n",
            "\u001b[1m1522/1522\u001b[0m \u001b[32m━━━━━━━━━━━━━━━━━━━━\u001b[0m\u001b[37m\u001b[0m \u001b[1m8s\u001b[0m 5ms/step - loss: 433086.5312 - mean_absolute_error: 214.2851 - val_loss: 2253847.0000 - val_mean_absolute_error: 324.4308\n",
            "\u001b[1m2523/2523\u001b[0m \u001b[32m━━━━━━━━━━━━━━━━━━━━\u001b[0m\u001b[37m\u001b[0m \u001b[1m4s\u001b[0m 2ms/step\n",
            "SVD - Mean Squared Error: 2253851.6053\n",
            "SVD - Reduction time: 9.0758 seconds\n",
            "SVD - Train time: 188.4583 seconds\n",
            "Epoch 1/20\n",
            "\u001b[1m1522/1522\u001b[0m \u001b[32m━━━━━━━━━━━━━━━━━━━━\u001b[0m\u001b[37m\u001b[0m \u001b[1m8s\u001b[0m 5ms/step - loss: 27393612.0000 - mean_absolute_error: 1887.5387 - val_loss: 1354109.8750 - val_mean_absolute_error: 288.1070\n",
            "Epoch 2/20\n",
            "\u001b[1m1522/1522\u001b[0m \u001b[32m━━━━━━━━━━━━━━━━━━━━\u001b[0m\u001b[37m\u001b[0m \u001b[1m10s\u001b[0m 6ms/step - loss: 3101044.0000 - mean_absolute_error: 453.7527 - val_loss: 150746.9688 - val_mean_absolute_error: 108.0798\n",
            "Epoch 3/20\n",
            "\u001b[1m1522/1522\u001b[0m \u001b[32m━━━━━━━━━━━━━━━━━━━━\u001b[0m\u001b[37m\u001b[0m \u001b[1m9s\u001b[0m 5ms/step - loss: 4378532.5000 - mean_absolute_error: 469.9970 - val_loss: 98337.7578 - val_mean_absolute_error: 70.6955\n",
            "Epoch 4/20\n",
            "\u001b[1m1522/1522\u001b[0m \u001b[32m━━━━━━━━━━━━━━━━━━━━\u001b[0m\u001b[37m\u001b[0m \u001b[1m9s\u001b[0m 6ms/step - loss: 741967.6250 - mean_absolute_error: 314.9447 - val_loss: 251914.1719 - val_mean_absolute_error: 97.8183\n",
            "Epoch 5/20\n",
            "\u001b[1m1522/1522\u001b[0m \u001b[32m━━━━━━━━━━━━━━━━━━━━\u001b[0m\u001b[37m\u001b[0m \u001b[1m8s\u001b[0m 4ms/step - loss: 5650304.5000 - mean_absolute_error: 505.0769 - val_loss: 133429.5000 - val_mean_absolute_error: 76.8628\n",
            "Epoch 6/20\n",
            "\u001b[1m1522/1522\u001b[0m \u001b[32m━━━━━━━━━━━━━━━━━━━━\u001b[0m\u001b[37m\u001b[0m \u001b[1m12s\u001b[0m 5ms/step - loss: 420158.5312 - mean_absolute_error: 224.2849 - val_loss: 1040699.0625 - val_mean_absolute_error: 194.1511\n",
            "Epoch 7/20\n",
            "\u001b[1m1522/1522\u001b[0m \u001b[32m━━━━━━━━━━━━━━━━━━━━\u001b[0m\u001b[37m\u001b[0m \u001b[1m8s\u001b[0m 5ms/step - loss: 1809126.3750 - mean_absolute_error: 389.9871 - val_loss: 206610.0469 - val_mean_absolute_error: 172.6741\n",
            "Epoch 8/20\n",
            "\u001b[1m1522/1522\u001b[0m \u001b[32m━━━━━━━━━━━━━━━━━━━━\u001b[0m\u001b[37m\u001b[0m \u001b[1m10s\u001b[0m 5ms/step - loss: 1438599.0000 - mean_absolute_error: 365.1300 - val_loss: 103943.4297 - val_mean_absolute_error: 213.7932\n",
            "Epoch 9/20\n",
            "\u001b[1m1522/1522\u001b[0m \u001b[32m━━━━━━━━━━━━━━━━━━━━\u001b[0m\u001b[37m\u001b[0m \u001b[1m6s\u001b[0m 4ms/step - loss: 1154208.1250 - mean_absolute_error: 334.7798 - val_loss: 176244.9844 - val_mean_absolute_error: 237.6494\n",
            "Epoch 10/20\n",
            "\u001b[1m1522/1522\u001b[0m \u001b[32m━━━━━━━━━━━━━━━━━━━━\u001b[0m\u001b[37m\u001b[0m \u001b[1m11s\u001b[0m 5ms/step - loss: 922776.2500 - mean_absolute_error: 316.3772 - val_loss: 141560.6406 - val_mean_absolute_error: 150.2710\n",
            "Epoch 11/20\n",
            "\u001b[1m1522/1522\u001b[0m \u001b[32m━━━━━━━━━━━━━━━━━━━━\u001b[0m\u001b[37m\u001b[0m \u001b[1m6s\u001b[0m 4ms/step - loss: 999646.3750 - mean_absolute_error: 350.7205 - val_loss: 185974.7969 - val_mean_absolute_error: 132.3981\n",
            "Epoch 12/20\n",
            "\u001b[1m1522/1522\u001b[0m \u001b[32m━━━━━━━━━━━━━━━━━━━━\u001b[0m\u001b[37m\u001b[0m \u001b[1m8s\u001b[0m 5ms/step - loss: 2672514.2500 - mean_absolute_error: 335.0014 - val_loss: 98834.4141 - val_mean_absolute_error: 208.8994\n",
            "Epoch 13/20\n",
            "\u001b[1m1522/1522\u001b[0m \u001b[32m━━━━━━━━━━━━━━━━━━━━\u001b[0m\u001b[37m\u001b[0m \u001b[1m8s\u001b[0m 5ms/step - loss: 246891.6875 - mean_absolute_error: 212.6528 - val_loss: 10759722.0000 - val_mean_absolute_error: 630.2746\n",
            "Epoch 14/20\n",
            "\u001b[1m1522/1522\u001b[0m \u001b[32m━━━━━━━━━━━━━━━━━━━━\u001b[0m\u001b[37m\u001b[0m \u001b[1m9s\u001b[0m 4ms/step - loss: 2870553.2500 - mean_absolute_error: 484.9242 - val_loss: 54324.8242 - val_mean_absolute_error: 51.6105\n",
            "Epoch 15/20\n",
            "\u001b[1m1522/1522\u001b[0m \u001b[32m━━━━━━━━━━━━━━━━━━━━\u001b[0m\u001b[37m\u001b[0m \u001b[1m9s\u001b[0m 6ms/step - loss: 1530476.7500 - mean_absolute_error: 303.2482 - val_loss: 150495.1250 - val_mean_absolute_error: 154.6192\n",
            "Epoch 16/20\n",
            "\u001b[1m1522/1522\u001b[0m \u001b[32m━━━━━━━━━━━━━━━━━━━━\u001b[0m\u001b[37m\u001b[0m \u001b[1m8s\u001b[0m 4ms/step - loss: 216717.0625 - mean_absolute_error: 188.8316 - val_loss: 152774.4062 - val_mean_absolute_error: 70.8703\n",
            "Epoch 17/20\n",
            "\u001b[1m1522/1522\u001b[0m \u001b[32m━━━━━━━━━━━━━━━━━━━━\u001b[0m\u001b[37m\u001b[0m \u001b[1m9s\u001b[0m 6ms/step - loss: 662957.9375 - mean_absolute_error: 234.7990 - val_loss: 62477.5312 - val_mean_absolute_error: 75.4465\n",
            "Epoch 18/20\n",
            "\u001b[1m1522/1522\u001b[0m \u001b[32m━━━━━━━━━━━━━━━━━━━━\u001b[0m\u001b[37m\u001b[0m \u001b[1m6s\u001b[0m 4ms/step - loss: 1007302.3125 - mean_absolute_error: 293.6235 - val_loss: 39166.9727 - val_mean_absolute_error: 40.3081\n",
            "Epoch 19/20\n",
            "\u001b[1m1522/1522\u001b[0m \u001b[32m━━━━━━━━━━━━━━━━━━━━\u001b[0m\u001b[37m\u001b[0m \u001b[1m10s\u001b[0m 4ms/step - loss: 887754.0625 - mean_absolute_error: 217.7825 - val_loss: 42408.7734 - val_mean_absolute_error: 85.4663\n",
            "Epoch 20/20\n",
            "\u001b[1m1522/1522\u001b[0m \u001b[32m━━━━━━━━━━━━━━━━━━━━\u001b[0m\u001b[37m\u001b[0m \u001b[1m9s\u001b[0m 6ms/step - loss: 2579961.7500 - mean_absolute_error: 332.8849 - val_loss: 679308.0000 - val_mean_absolute_error: 204.9212\n",
            "\u001b[1m2523/2523\u001b[0m \u001b[32m━━━━━━━━━━━━━━━━━━━━\u001b[0m\u001b[37m\u001b[0m \u001b[1m4s\u001b[0m 2ms/step\n",
            "PCA - Mean Squared Error: 679312.6820\n",
            "PCA - Reduction time: 1.4904 seconds\n",
            "PCA - Train time: 175.1193 seconds\n",
            "Epoch 1/20\n",
            "\u001b[1m1522/1522\u001b[0m \u001b[32m━━━━━━━━━━━━━━━━━━━━\u001b[0m\u001b[37m\u001b[0m \u001b[1m8s\u001b[0m 5ms/step - loss: 82909448.0000 - mean_absolute_error: 2431.8254 - val_loss: 1335622.8750 - val_mean_absolute_error: 286.4495\n",
            "Epoch 2/20\n",
            "\u001b[1m1522/1522\u001b[0m \u001b[32m━━━━━━━━━━━━━━━━━━━━\u001b[0m\u001b[37m\u001b[0m \u001b[1m9s\u001b[0m 6ms/step - loss: 2187003.0000 - mean_absolute_error: 608.6171 - val_loss: 2039682.7500 - val_mean_absolute_error: 317.4302\n",
            "Epoch 3/20\n",
            "\u001b[1m1522/1522\u001b[0m \u001b[32m━━━━━━━━━━━━━━━━━━━━\u001b[0m\u001b[37m\u001b[0m \u001b[1m10s\u001b[0m 6ms/step - loss: 4337454.5000 - mean_absolute_error: 774.6841 - val_loss: 17688328.0000 - val_mean_absolute_error: 967.1927\n",
            "Epoch 4/20\n",
            "\u001b[1m1522/1522\u001b[0m \u001b[32m━━━━━━━━━━━━━━━━━━━━\u001b[0m\u001b[37m\u001b[0m \u001b[1m10s\u001b[0m 7ms/step - loss: 5222651.5000 - mean_absolute_error: 817.4264 - val_loss: 1456976.6250 - val_mean_absolute_error: 282.2885\n",
            "Epoch 5/20\n",
            "\u001b[1m1522/1522\u001b[0m \u001b[32m━━━━━━━━━━━━━━━━━━━━\u001b[0m\u001b[37m\u001b[0m \u001b[1m8s\u001b[0m 5ms/step - loss: 3728003.0000 - mean_absolute_error: 676.4937 - val_loss: 699956.6875 - val_mean_absolute_error: 212.4386\n",
            "Epoch 6/20\n",
            "\u001b[1m1522/1522\u001b[0m \u001b[32m━━━━━━━━━━━━━━━━━━━━\u001b[0m\u001b[37m\u001b[0m \u001b[1m8s\u001b[0m 5ms/step - loss: 1996672.3750 - mean_absolute_error: 505.2885 - val_loss: 1064741.5000 - val_mean_absolute_error: 224.4652\n",
            "Epoch 7/20\n",
            "\u001b[1m1522/1522\u001b[0m \u001b[32m━━━━━━━━━━━━━━━━━━━━\u001b[0m\u001b[37m\u001b[0m \u001b[1m9s\u001b[0m 6ms/step - loss: 3615599.7500 - mean_absolute_error: 624.2614 - val_loss: 169588.9531 - val_mean_absolute_error: 79.7121\n",
            "Epoch 8/20\n",
            "\u001b[1m1522/1522\u001b[0m \u001b[32m━━━━━━━━━━━━━━━━━━━━\u001b[0m\u001b[37m\u001b[0m \u001b[1m6s\u001b[0m 4ms/step - loss: 5461618.5000 - mean_absolute_error: 719.5269 - val_loss: 483892.7188 - val_mean_absolute_error: 165.0985\n",
            "Epoch 9/20\n",
            "\u001b[1m1004/1522\u001b[0m \u001b[32m━━━━━━━━━━━━━\u001b[0m\u001b[37m━━━━━━━\u001b[0m \u001b[1m1s\u001b[0m 3ms/step - loss: 1383550.0000 - mean_absolute_error: 417.1714"
          ]
        }
      ]
    },
    {
      "cell_type": "code",
      "source": [
        "neural_model_small.summary()"
      ],
      "metadata": {
        "id": "1pmTmCeqJHgO"
      },
      "execution_count": null,
      "outputs": []
    },
    {
      "cell_type": "markdown",
      "source": [
        "3. Fit Large Neural Network"
      ],
      "metadata": {
        "id": "t1b9Z9HiGsqt"
      }
    },
    {
      "cell_type": "code",
      "source": [
        "neural_model_training_loop(neural_model_large, X_train, X_test, y_train, y_test)"
      ],
      "metadata": {
        "colab": {
          "base_uri": "https://localhost:8080/"
        },
        "id": "YkAZA6-zGiHZ",
        "outputId": "33a398ea-7ee5-4fe9-9cf4-eca592bdc244"
      },
      "execution_count": null,
      "outputs": [
        {
          "output_type": "stream",
          "name": "stdout",
          "text": [
            "Epoch 1/20\n",
            "\u001b[1m1522/1522\u001b[0m \u001b[32m━━━━━━━━━━━━━━━━━━━━\u001b[0m\u001b[37m\u001b[0m \u001b[1m11s\u001b[0m 6ms/step - loss: 82914376.0000 - mean_absolute_error: 1909.7693 - val_loss: 171797.3281 - val_mean_absolute_error: 74.3354\n",
            "Epoch 2/20\n",
            "\u001b[1m1522/1522\u001b[0m \u001b[32m━━━━━━━━━━━━━━━━━━━━\u001b[0m\u001b[37m\u001b[0m \u001b[1m7s\u001b[0m 5ms/step - loss: 942920.6250 - mean_absolute_error: 312.4214 - val_loss: 711486.8750 - val_mean_absolute_error: 185.5898\n",
            "Epoch 3/20\n",
            "\u001b[1m1522/1522\u001b[0m \u001b[32m━━━━━━━━━━━━━━━━━━━━\u001b[0m\u001b[37m\u001b[0m \u001b[1m10s\u001b[0m 6ms/step - loss: 870946.0625 - mean_absolute_error: 306.8051 - val_loss: 197354.9375 - val_mean_absolute_error: 87.8883\n",
            "Epoch 4/20\n",
            "\u001b[1m1522/1522\u001b[0m \u001b[32m━━━━━━━━━━━━━━━━━━━━\u001b[0m\u001b[37m\u001b[0m \u001b[1m8s\u001b[0m 5ms/step - loss: 1094412.3750 - mean_absolute_error: 308.5911 - val_loss: 114836.9844 - val_mean_absolute_error: 62.2578\n",
            "Epoch 5/20\n",
            "\u001b[1m1522/1522\u001b[0m \u001b[32m━━━━━━━━━━━━━━━━━━━━\u001b[0m\u001b[37m\u001b[0m \u001b[1m10s\u001b[0m 5ms/step - loss: 665806.0625 - mean_absolute_error: 263.1634 - val_loss: 130966.2656 - val_mean_absolute_error: 76.3823\n",
            "Epoch 6/20\n",
            "\u001b[1m1522/1522\u001b[0m \u001b[32m━━━━━━━━━━━━━━━━━━━━\u001b[0m\u001b[37m\u001b[0m \u001b[1m13s\u001b[0m 7ms/step - loss: 3978116.5000 - mean_absolute_error: 504.7377 - val_loss: 312110.3125 - val_mean_absolute_error: 122.6551\n",
            "Epoch 7/20\n",
            "\u001b[1m1522/1522\u001b[0m \u001b[32m━━━━━━━━━━━━━━━━━━━━\u001b[0m\u001b[37m\u001b[0m \u001b[1m9s\u001b[0m 6ms/step - loss: 671255.1875 - mean_absolute_error: 263.6860 - val_loss: 173663.4375 - val_mean_absolute_error: 92.1543\n",
            "Epoch 8/20\n",
            "\u001b[1m1522/1522\u001b[0m \u001b[32m━━━━━━━━━━━━━━━━━━━━\u001b[0m\u001b[37m\u001b[0m \u001b[1m7s\u001b[0m 5ms/step - loss: 766803.4375 - mean_absolute_error: 255.4613 - val_loss: 41320.4102 - val_mean_absolute_error: 38.7135\n",
            "Epoch 9/20\n",
            "\u001b[1m1522/1522\u001b[0m \u001b[32m━━━━━━━━━━━━━━━━━━━━\u001b[0m\u001b[37m\u001b[0m \u001b[1m9s\u001b[0m 6ms/step - loss: 279209.5625 - mean_absolute_error: 165.5527 - val_loss: 48681.2812 - val_mean_absolute_error: 43.3916\n",
            "Epoch 10/20\n",
            "\u001b[1m1522/1522\u001b[0m \u001b[32m━━━━━━━━━━━━━━━━━━━━\u001b[0m\u001b[37m\u001b[0m \u001b[1m10s\u001b[0m 6ms/step - loss: 177563.5156 - mean_absolute_error: 130.7079 - val_loss: 17531.2617 - val_mean_absolute_error: 24.2126\n",
            "Epoch 11/20\n",
            "\u001b[1m1522/1522\u001b[0m \u001b[32m━━━━━━━━━━━━━━━━━━━━\u001b[0m\u001b[37m\u001b[0m \u001b[1m8s\u001b[0m 5ms/step - loss: 274585.1562 - mean_absolute_error: 166.8524 - val_loss: 36837.8945 - val_mean_absolute_error: 33.8266\n",
            "Epoch 12/20\n",
            "\u001b[1m1522/1522\u001b[0m \u001b[32m━━━━━━━━━━━━━━━━━━━━\u001b[0m\u001b[37m\u001b[0m \u001b[1m12s\u001b[0m 6ms/step - loss: 1260364.6250 - mean_absolute_error: 349.4488 - val_loss: 15783.3633 - val_mean_absolute_error: 26.2433\n",
            "Epoch 13/20\n",
            "\u001b[1m1522/1522\u001b[0m \u001b[32m━━━━━━━━━━━━━━━━━━━━\u001b[0m\u001b[37m\u001b[0m \u001b[1m9s\u001b[0m 6ms/step - loss: 57271.4453 - mean_absolute_error: 81.9134 - val_loss: 54169.9688 - val_mean_absolute_error: 54.1866\n",
            "Epoch 14/20\n",
            "\u001b[1m1522/1522\u001b[0m \u001b[32m━━━━━━━━━━━━━━━━━━━━\u001b[0m\u001b[37m\u001b[0m \u001b[1m7s\u001b[0m 5ms/step - loss: 43681.3477 - mean_absolute_error: 75.1163 - val_loss: 45051.2031 - val_mean_absolute_error: 49.0188\n",
            "Epoch 15/20\n",
            "\u001b[1m1522/1522\u001b[0m \u001b[32m━━━━━━━━━━━━━━━━━━━━\u001b[0m\u001b[37m\u001b[0m \u001b[1m11s\u001b[0m 5ms/step - loss: 168251.6875 - mean_absolute_error: 113.3149 - val_loss: 47811.8633 - val_mean_absolute_error: 49.1311\n",
            "Epoch 16/20\n",
            "\u001b[1m1522/1522\u001b[0m \u001b[32m━━━━━━━━━━━━━━━━━━━━\u001b[0m\u001b[37m\u001b[0m \u001b[1m11s\u001b[0m 6ms/step - loss: 36383.8945 - mean_absolute_error: 67.0598 - val_loss: 5348.4731 - val_mean_absolute_error: 14.0455\n",
            "Epoch 17/20\n",
            "\u001b[1m1522/1522\u001b[0m \u001b[32m━━━━━━━━━━━━━━━━━━━━\u001b[0m\u001b[37m\u001b[0m \u001b[1m10s\u001b[0m 5ms/step - loss: 16230.9346 - mean_absolute_error: 44.5061 - val_loss: 8326.7959 - val_mean_absolute_error: 20.2284\n",
            "Epoch 18/20\n",
            "\u001b[1m1522/1522\u001b[0m \u001b[32m━━━━━━━━━━━━━━━━━━━━\u001b[0m\u001b[37m\u001b[0m \u001b[1m11s\u001b[0m 6ms/step - loss: 146042.1094 - mean_absolute_error: 76.0101 - val_loss: 1920.9109 - val_mean_absolute_error: 9.9022\n",
            "Epoch 19/20\n",
            "\u001b[1m1522/1522\u001b[0m \u001b[32m━━━━━━━━━━━━━━━━━━━━\u001b[0m\u001b[37m\u001b[0m \u001b[1m11s\u001b[0m 7ms/step - loss: 6144.0874 - mean_absolute_error: 28.4193 - val_loss: 1058.8295 - val_mean_absolute_error: 6.9858\n",
            "Epoch 20/20\n",
            "\u001b[1m1522/1522\u001b[0m \u001b[32m━━━━━━━━━━━━━━━━━━━━\u001b[0m\u001b[37m\u001b[0m \u001b[1m10s\u001b[0m 7ms/step - loss: 27944.9062 - mean_absolute_error: 46.6331 - val_loss: 4496.2969 - val_mean_absolute_error: 15.7500\n",
            "\u001b[1m2523/2523\u001b[0m \u001b[32m━━━━━━━━━━━━━━━━━━━━\u001b[0m\u001b[37m\u001b[0m \u001b[1m5s\u001b[0m 2ms/step\n",
            "SVD - Mean Squared Error: 4496.2885\n",
            "SVD - Reduction time: 8.8021 seconds\n",
            "SVD - Train time: 203.9783 seconds\n",
            "Epoch 1/20\n",
            "\u001b[1m1522/1522\u001b[0m \u001b[32m━━━━━━━━━━━━━━━━━━━━\u001b[0m\u001b[37m\u001b[0m \u001b[1m10s\u001b[0m 7ms/step - loss: 3012121088.0000 - mean_absolute_error: 10271.9883 - val_loss: 10127.3242 - val_mean_absolute_error: 30.7159\n",
            "Epoch 2/20\n",
            "\u001b[1m1522/1522\u001b[0m \u001b[32m━━━━━━━━━━━━━━━━━━━━\u001b[0m\u001b[37m\u001b[0m \u001b[1m10s\u001b[0m 6ms/step - loss: 29893.4160 - mean_absolute_error: 81.6259 - val_loss: 9492.0869 - val_mean_absolute_error: 24.5680\n",
            "Epoch 3/20\n",
            "\u001b[1m1522/1522\u001b[0m \u001b[32m━━━━━━━━━━━━━━━━━━━━\u001b[0m\u001b[37m\u001b[0m \u001b[1m10s\u001b[0m 6ms/step - loss: 17350.9121 - mean_absolute_error: 65.6849 - val_loss: 7236.4531 - val_mean_absolute_error: 18.5042\n",
            "Epoch 4/20\n",
            "\u001b[1m1522/1522\u001b[0m \u001b[32m━━━━━━━━━━━━━━━━━━━━\u001b[0m\u001b[37m\u001b[0m \u001b[1m12s\u001b[0m 7ms/step - loss: 37069.4961 - mean_absolute_error: 85.4291 - val_loss: 13424.6514 - val_mean_absolute_error: 76.5004\n",
            "Epoch 5/20\n",
            "\u001b[1m1522/1522\u001b[0m \u001b[32m━━━━━━━━━━━━━━━━━━━━\u001b[0m\u001b[37m\u001b[0m \u001b[1m19s\u001b[0m 6ms/step - loss: 18812.8574 - mean_absolute_error: 63.5435 - val_loss: 4838.7656 - val_mean_absolute_error: 47.6020\n",
            "Epoch 6/20\n",
            "\u001b[1m1522/1522\u001b[0m \u001b[32m━━━━━━━━━━━━━━━━━━━━\u001b[0m\u001b[37m\u001b[0m \u001b[1m8s\u001b[0m 5ms/step - loss: 18446.2715 - mean_absolute_error: 61.1900 - val_loss: 147308.9375 - val_mean_absolute_error: 362.5463\n",
            "Epoch 7/20\n",
            "\u001b[1m1522/1522\u001b[0m \u001b[32m━━━━━━━━━━━━━━━━━━━━\u001b[0m\u001b[37m\u001b[0m \u001b[1m12s\u001b[0m 6ms/step - loss: 119626.5625 - mean_absolute_error: 115.3116 - val_loss: 9764.9092 - val_mean_absolute_error: 66.9822\n",
            "Epoch 8/20\n",
            "\u001b[1m1522/1522\u001b[0m \u001b[32m━━━━━━━━━━━━━━━━━━━━\u001b[0m\u001b[37m\u001b[0m \u001b[1m9s\u001b[0m 6ms/step - loss: 19673.3047 - mean_absolute_error: 68.1581 - val_loss: 17624.8242 - val_mean_absolute_error: 91.3271\n",
            "Epoch 9/20\n",
            "\u001b[1m1522/1522\u001b[0m \u001b[32m━━━━━━━━━━━━━━━━━━━━\u001b[0m\u001b[37m\u001b[0m \u001b[1m9s\u001b[0m 6ms/step - loss: 28722.5176 - mean_absolute_error: 74.1379 - val_loss: 7777.3711 - val_mean_absolute_error: 61.0289\n",
            "Epoch 10/20\n",
            "\u001b[1m1522/1522\u001b[0m \u001b[32m━━━━━━━━━━━━━━━━━━━━\u001b[0m\u001b[37m\u001b[0m \u001b[1m12s\u001b[0m 7ms/step - loss: 7418.3169 - mean_absolute_error: 49.0231 - val_loss: 1925.3103 - val_mean_absolute_error: 33.1398\n",
            "Epoch 11/20\n",
            "\u001b[1m1522/1522\u001b[0m \u001b[32m━━━━━━━━━━━━━━━━━━━━\u001b[0m\u001b[37m\u001b[0m \u001b[1m10s\u001b[0m 7ms/step - loss: 25929.5195 - mean_absolute_error: 63.4621 - val_loss: 2641.5955 - val_mean_absolute_error: 27.9045\n",
            "Epoch 12/20\n",
            "\u001b[1m1522/1522\u001b[0m \u001b[32m━━━━━━━━━━━━━━━━━━━━\u001b[0m\u001b[37m\u001b[0m \u001b[1m10s\u001b[0m 7ms/step - loss: 5537.7417 - mean_absolute_error: 45.9251 - val_loss: 17812.6875 - val_mean_absolute_error: 127.7081\n",
            "Epoch 13/20\n",
            "\u001b[1m1522/1522\u001b[0m \u001b[32m━━━━━━━━━━━━━━━━━━━━\u001b[0m\u001b[37m\u001b[0m \u001b[1m21s\u001b[0m 7ms/step - loss: 7085.6553 - mean_absolute_error: 51.8333 - val_loss: 2016.4695 - val_mean_absolute_error: 30.3591\n",
            "Epoch 14/20\n",
            "\u001b[1m1522/1522\u001b[0m \u001b[32m━━━━━━━━━━━━━━━━━━━━\u001b[0m\u001b[37m\u001b[0m \u001b[1m20s\u001b[0m 6ms/step - loss: 8896.0010 - mean_absolute_error: 53.1222 - val_loss: 986.7231 - val_mean_absolute_error: 15.1601\n",
            "Epoch 15/20\n",
            "\u001b[1m1522/1522\u001b[0m \u001b[32m━━━━━━━━━━━━━━━━━━━━\u001b[0m\u001b[37m\u001b[0m \u001b[1m10s\u001b[0m 6ms/step - loss: 5415.1860 - mean_absolute_error: 42.3082 - val_loss: 28347.5684 - val_mean_absolute_error: 105.2000\n",
            "Epoch 16/20\n",
            "\u001b[1m1522/1522\u001b[0m \u001b[32m━━━━━━━━━━━━━━━━━━━━\u001b[0m\u001b[37m\u001b[0m \u001b[1m12s\u001b[0m 7ms/step - loss: 29364.7734 - mean_absolute_error: 61.4455 - val_loss: 14227.6553 - val_mean_absolute_error: 113.8939\n",
            "Epoch 17/20\n",
            "\u001b[1m1522/1522\u001b[0m \u001b[32m━━━━━━━━━━━━━━━━━━━━\u001b[0m\u001b[37m\u001b[0m \u001b[1m19s\u001b[0m 6ms/step - loss: 3753.5698 - mean_absolute_error: 37.9570 - val_loss: 1543.2272 - val_mean_absolute_error: 31.0438\n",
            "Epoch 18/20\n",
            "\u001b[1m1522/1522\u001b[0m \u001b[32m━━━━━━━━━━━━━━━━━━━━\u001b[0m\u001b[37m\u001b[0m \u001b[1m9s\u001b[0m 5ms/step - loss: 3218.8684 - mean_absolute_error: 34.7585 - val_loss: 1798.3333 - val_mean_absolute_error: 20.0690\n",
            "Epoch 19/20\n",
            "\u001b[1m1522/1522\u001b[0m \u001b[32m━━━━━━━━━━━━━━━━━━━━\u001b[0m\u001b[37m\u001b[0m \u001b[1m11s\u001b[0m 8ms/step - loss: 2910.0876 - mean_absolute_error: 31.8135 - val_loss: 1044.5688 - val_mean_absolute_error: 24.2764\n",
            "Epoch 20/20\n",
            "\u001b[1m1522/1522\u001b[0m \u001b[32m━━━━━━━━━━━━━━━━━━━━\u001b[0m\u001b[37m\u001b[0m \u001b[1m9s\u001b[0m 6ms/step - loss: 4352.2661 - mean_absolute_error: 38.5901 - val_loss: 2192.7207 - val_mean_absolute_error: 41.4318\n",
            "\u001b[1m2523/2523\u001b[0m \u001b[32m━━━━━━━━━━━━━━━━━━━━\u001b[0m\u001b[37m\u001b[0m \u001b[1m5s\u001b[0m 2ms/step\n",
            "PCA - Mean Squared Error: 2192.6983\n",
            "PCA - Reduction time: 1.4651 seconds\n",
            "PCA - Train time: 242.4912 seconds\n",
            "Epoch 1/20\n",
            "\u001b[1m1522/1522\u001b[0m \u001b[32m━━━━━━━━━━━━━━━━━━━━\u001b[0m\u001b[37m\u001b[0m \u001b[1m10s\u001b[0m 7ms/step - loss: 603699.6250 - mean_absolute_error: 176.9837 - val_loss: 994.5184 - val_mean_absolute_error: 7.0300\n",
            "Epoch 2/20\n",
            "\u001b[1m1522/1522\u001b[0m \u001b[32m━━━━━━━━━━━━━━━━━━━━\u001b[0m\u001b[37m\u001b[0m \u001b[1m10s\u001b[0m 6ms/step - loss: 11306.6250 - mean_absolute_error: 36.1299 - val_loss: 3559.6206 - val_mean_absolute_error: 12.4177\n",
            "Epoch 3/20\n",
            "\u001b[1m1522/1522\u001b[0m \u001b[32m━━━━━━━━━━━━━━━━━━━━\u001b[0m\u001b[37m\u001b[0m \u001b[1m10s\u001b[0m 6ms/step - loss: 5732.1367 - mean_absolute_error: 24.8087 - val_loss: 846.2628 - val_mean_absolute_error: 7.1049\n",
            "Epoch 4/20\n",
            "\u001b[1m1522/1522\u001b[0m \u001b[32m━━━━━━━━━━━━━━━━━━━━\u001b[0m\u001b[37m\u001b[0m \u001b[1m9s\u001b[0m 6ms/step - loss: 4261.7178 - mean_absolute_error: 20.2293 - val_loss: 1624.7786 - val_mean_absolute_error: 7.9780\n",
            "Epoch 5/20\n",
            "\u001b[1m1522/1522\u001b[0m \u001b[32m━━━━━━━━━━━━━━━━━━━━\u001b[0m\u001b[37m\u001b[0m \u001b[1m11s\u001b[0m 6ms/step - loss: 7751.6963 - mean_absolute_error: 28.5625 - val_loss: 1348.0299 - val_mean_absolute_error: 8.8895\n",
            "Epoch 6/20\n",
            "\u001b[1m1522/1522\u001b[0m \u001b[32m━━━━━━━━━━━━━━━━━━━━\u001b[0m\u001b[37m\u001b[0m \u001b[1m11s\u001b[0m 6ms/step - loss: 4015.1936 - mean_absolute_error: 19.6579 - val_loss: 6513.1079 - val_mean_absolute_error: 19.1997\n",
            "Epoch 7/20\n",
            "\u001b[1m1522/1522\u001b[0m \u001b[32m━━━━━━━━━━━━━━━━━━━━\u001b[0m\u001b[37m\u001b[0m \u001b[1m10s\u001b[0m 6ms/step - loss: 1320.5220 - mean_absolute_error: 12.7949 - val_loss: 47.0633 - val_mean_absolute_error: 2.9619\n",
            "Epoch 8/20\n",
            "\u001b[1m1522/1522\u001b[0m \u001b[32m━━━━━━━━━━━━━━━━━━━━\u001b[0m\u001b[37m\u001b[0m \u001b[1m11s\u001b[0m 7ms/step - loss: 2162.3452 - mean_absolute_error: 14.6893 - val_loss: 223.4681 - val_mean_absolute_error: 4.3045\n",
            "Epoch 9/20\n",
            "\u001b[1m1522/1522\u001b[0m \u001b[32m━━━━━━━━━━━━━━━━━━━━\u001b[0m\u001b[37m\u001b[0m \u001b[1m10s\u001b[0m 6ms/step - loss: 884.0846 - mean_absolute_error: 10.3170 - val_loss: 86.4789 - val_mean_absolute_error: 3.5181\n",
            "Epoch 10/20\n",
            "\u001b[1m1522/1522\u001b[0m \u001b[32m━━━━━━━━━━━━━━━━━━━━\u001b[0m\u001b[37m\u001b[0m \u001b[1m8s\u001b[0m 5ms/step - loss: 296.5814 - mean_absolute_error: 7.4272 - val_loss: 112.9263 - val_mean_absolute_error: 2.9934\n",
            "Epoch 11/20\n",
            "\u001b[1m1522/1522\u001b[0m \u001b[32m━━━━━━━━━━━━━━━━━━━━\u001b[0m\u001b[37m\u001b[0m \u001b[1m10s\u001b[0m 6ms/step - loss: 281.3463 - mean_absolute_error: 5.6629 - val_loss: 43.6318 - val_mean_absolute_error: 3.2184\n",
            "Epoch 12/20\n",
            "\u001b[1m1522/1522\u001b[0m \u001b[32m━━━━━━━━━━━━━━━━━━━━\u001b[0m\u001b[37m\u001b[0m \u001b[1m10s\u001b[0m 6ms/step - loss: 703.9368 - mean_absolute_error: 7.0835 - val_loss: 24.1880 - val_mean_absolute_error: 2.7826\n",
            "Epoch 13/20\n",
            "\u001b[1m1522/1522\u001b[0m \u001b[32m━━━━━━━━━━━━━━━━━━━━\u001b[0m\u001b[37m\u001b[0m \u001b[1m8s\u001b[0m 6ms/step - loss: 122.9565 - mean_absolute_error: 4.2319 - val_loss: 11.7015 - val_mean_absolute_error: 2.4077\n",
            "Epoch 14/20\n",
            "\u001b[1m1522/1522\u001b[0m \u001b[32m━━━━━━━━━━━━━━━━━━━━\u001b[0m\u001b[37m\u001b[0m \u001b[1m12s\u001b[0m 8ms/step - loss: 47.4637 - mean_absolute_error: 3.2952 - val_loss: 14.7211 - val_mean_absolute_error: 2.6320\n",
            "Epoch 15/20\n",
            "\u001b[1m1522/1522\u001b[0m \u001b[32m━━━━━━━━━━━━━━━━━━━━\u001b[0m\u001b[37m\u001b[0m \u001b[1m15s\u001b[0m 10ms/step - loss: 190.1336 - mean_absolute_error: 3.6882 - val_loss: 682.0826 - val_mean_absolute_error: 6.4373\n",
            "Epoch 16/20\n",
            "\u001b[1m1522/1522\u001b[0m \u001b[32m━━━━━━━━━━━━━━━━━━━━\u001b[0m\u001b[37m\u001b[0m \u001b[1m16s\u001b[0m 7ms/step - loss: 137.1389 - mean_absolute_error: 3.2815 - val_loss: 28.0166 - val_mean_absolute_error: 2.5417\n",
            "Epoch 17/20\n",
            "\u001b[1m1522/1522\u001b[0m \u001b[32m━━━━━━━━━━━━━━━━━━━━\u001b[0m\u001b[37m\u001b[0m \u001b[1m20s\u001b[0m 6ms/step - loss: 34.5584 - mean_absolute_error: 2.6301 - val_loss: 14.8210 - val_mean_absolute_error: 2.7329\n",
            "Epoch 18/20\n",
            "\u001b[1m1522/1522\u001b[0m \u001b[32m━━━━━━━━━━━━━━━━━━━━\u001b[0m\u001b[37m\u001b[0m \u001b[1m8s\u001b[0m 5ms/step - loss: 13.4037 - mean_absolute_error: 2.2443 - val_loss: 9.8401 - val_mean_absolute_error: 2.5660\n",
            "Epoch 19/20\n",
            "\u001b[1m1522/1522\u001b[0m \u001b[32m━━━━━━━━━━━━━━━━━━━━\u001b[0m\u001b[37m\u001b[0m \u001b[1m13s\u001b[0m 7ms/step - loss: 12.7592 - mean_absolute_error: 2.1939 - val_loss: 11.0143 - val_mean_absolute_error: 2.8315\n",
            "Epoch 20/20\n",
            "\u001b[1m1522/1522\u001b[0m \u001b[32m━━━━━━━━━━━━━━━━━━━━\u001b[0m\u001b[37m\u001b[0m \u001b[1m10s\u001b[0m 6ms/step - loss: 12.7799 - mean_absolute_error: 2.0815 - val_loss: 55.8404 - val_mean_absolute_error: 3.0360\n",
            "\u001b[1m2523/2523\u001b[0m \u001b[32m━━━━━━━━━━━━━━━━━━━━\u001b[0m\u001b[37m\u001b[0m \u001b[1m5s\u001b[0m 2ms/step\n",
            "RP - Mean Squared Error: 55.8403\n",
            "RP - Reduction time: 0.7281 seconds\n",
            "RP - Train time: 221.4759 seconds\n"
          ]
        }
      ]
    },
    {
      "cell_type": "code",
      "source": [
        "neural_model_large.summary()"
      ],
      "metadata": {
        "colab": {
          "base_uri": "https://localhost:8080/",
          "height": 347
        },
        "id": "loH_zarJJC5o",
        "outputId": "56d22468-0d08-4a06-f8a8-f94758b3acfb"
      },
      "execution_count": null,
      "outputs": [
        {
          "output_type": "display_data",
          "data": {
            "text/plain": [
              "\u001b[1mModel: \"sequential_3\"\u001b[0m\n"
            ],
            "text/html": [
              "<pre style=\"white-space:pre;overflow-x:auto;line-height:normal;font-family:Menlo,'DejaVu Sans Mono',consolas,'Courier New',monospace\"><span style=\"font-weight: bold\">Model: \"sequential_3\"</span>\n",
              "</pre>\n"
            ]
          },
          "metadata": {}
        },
        {
          "output_type": "display_data",
          "data": {
            "text/plain": [
              "┏━━━━━━━━━━━━━━━━━━━━━━━━━━━━━━━━━━━━━━┳━━━━━━━━━━━━━━━━━━━━━━━━━━━━━┳━━━━━━━━━━━━━━━━━┓\n",
              "┃\u001b[1m \u001b[0m\u001b[1mLayer (type)                        \u001b[0m\u001b[1m \u001b[0m┃\u001b[1m \u001b[0m\u001b[1mOutput Shape               \u001b[0m\u001b[1m \u001b[0m┃\u001b[1m \u001b[0m\u001b[1m        Param #\u001b[0m\u001b[1m \u001b[0m┃\n",
              "┡━━━━━━━━━━━━━━━━━━━━━━━━━━━━━━━━━━━━━━╇━━━━━━━━━━━━━━━━━━━━━━━━━━━━━╇━━━━━━━━━━━━━━━━━┩\n",
              "│ flatten_3 (\u001b[38;5;33mFlatten\u001b[0m)                  │ (\u001b[38;5;45mNone\u001b[0m, \u001b[38;5;34m100\u001b[0m)                 │               \u001b[38;5;34m0\u001b[0m │\n",
              "├──────────────────────────────────────┼─────────────────────────────┼─────────────────┤\n",
              "│ dense_11 (\u001b[38;5;33mDense\u001b[0m)                     │ (\u001b[38;5;45mNone\u001b[0m, \u001b[38;5;34m256\u001b[0m)                 │          \u001b[38;5;34m25,856\u001b[0m │\n",
              "├──────────────────────────────────────┼─────────────────────────────┼─────────────────┤\n",
              "│ dense_12 (\u001b[38;5;33mDense\u001b[0m)                     │ (\u001b[38;5;45mNone\u001b[0m, \u001b[38;5;34m128\u001b[0m)                 │          \u001b[38;5;34m32,896\u001b[0m │\n",
              "├──────────────────────────────────────┼─────────────────────────────┼─────────────────┤\n",
              "│ dense_13 (\u001b[38;5;33mDense\u001b[0m)                     │ (\u001b[38;5;45mNone\u001b[0m, \u001b[38;5;34m64\u001b[0m)                  │           \u001b[38;5;34m8,256\u001b[0m │\n",
              "├──────────────────────────────────────┼─────────────────────────────┼─────────────────┤\n",
              "│ dense_14 (\u001b[38;5;33mDense\u001b[0m)                     │ (\u001b[38;5;45mNone\u001b[0m, \u001b[38;5;34m32\u001b[0m)                  │           \u001b[38;5;34m2,080\u001b[0m │\n",
              "├──────────────────────────────────────┼─────────────────────────────┼─────────────────┤\n",
              "│ dense_15 (\u001b[38;5;33mDense\u001b[0m)                     │ (\u001b[38;5;45mNone\u001b[0m, \u001b[38;5;34m1\u001b[0m)                   │              \u001b[38;5;34m33\u001b[0m │\n",
              "└──────────────────────────────────────┴─────────────────────────────┴─────────────────┘\n"
            ],
            "text/html": [
              "<pre style=\"white-space:pre;overflow-x:auto;line-height:normal;font-family:Menlo,'DejaVu Sans Mono',consolas,'Courier New',monospace\">┏━━━━━━━━━━━━━━━━━━━━━━━━━━━━━━━━━━━━━━┳━━━━━━━━━━━━━━━━━━━━━━━━━━━━━┳━━━━━━━━━━━━━━━━━┓\n",
              "┃<span style=\"font-weight: bold\"> Layer (type)                         </span>┃<span style=\"font-weight: bold\"> Output Shape                </span>┃<span style=\"font-weight: bold\">         Param # </span>┃\n",
              "┡━━━━━━━━━━━━━━━━━━━━━━━━━━━━━━━━━━━━━━╇━━━━━━━━━━━━━━━━━━━━━━━━━━━━━╇━━━━━━━━━━━━━━━━━┩\n",
              "│ flatten_3 (<span style=\"color: #0087ff; text-decoration-color: #0087ff\">Flatten</span>)                  │ (<span style=\"color: #00d7ff; text-decoration-color: #00d7ff\">None</span>, <span style=\"color: #00af00; text-decoration-color: #00af00\">100</span>)                 │               <span style=\"color: #00af00; text-decoration-color: #00af00\">0</span> │\n",
              "├──────────────────────────────────────┼─────────────────────────────┼─────────────────┤\n",
              "│ dense_11 (<span style=\"color: #0087ff; text-decoration-color: #0087ff\">Dense</span>)                     │ (<span style=\"color: #00d7ff; text-decoration-color: #00d7ff\">None</span>, <span style=\"color: #00af00; text-decoration-color: #00af00\">256</span>)                 │          <span style=\"color: #00af00; text-decoration-color: #00af00\">25,856</span> │\n",
              "├──────────────────────────────────────┼─────────────────────────────┼─────────────────┤\n",
              "│ dense_12 (<span style=\"color: #0087ff; text-decoration-color: #0087ff\">Dense</span>)                     │ (<span style=\"color: #00d7ff; text-decoration-color: #00d7ff\">None</span>, <span style=\"color: #00af00; text-decoration-color: #00af00\">128</span>)                 │          <span style=\"color: #00af00; text-decoration-color: #00af00\">32,896</span> │\n",
              "├──────────────────────────────────────┼─────────────────────────────┼─────────────────┤\n",
              "│ dense_13 (<span style=\"color: #0087ff; text-decoration-color: #0087ff\">Dense</span>)                     │ (<span style=\"color: #00d7ff; text-decoration-color: #00d7ff\">None</span>, <span style=\"color: #00af00; text-decoration-color: #00af00\">64</span>)                  │           <span style=\"color: #00af00; text-decoration-color: #00af00\">8,256</span> │\n",
              "├──────────────────────────────────────┼─────────────────────────────┼─────────────────┤\n",
              "│ dense_14 (<span style=\"color: #0087ff; text-decoration-color: #0087ff\">Dense</span>)                     │ (<span style=\"color: #00d7ff; text-decoration-color: #00d7ff\">None</span>, <span style=\"color: #00af00; text-decoration-color: #00af00\">32</span>)                  │           <span style=\"color: #00af00; text-decoration-color: #00af00\">2,080</span> │\n",
              "├──────────────────────────────────────┼─────────────────────────────┼─────────────────┤\n",
              "│ dense_15 (<span style=\"color: #0087ff; text-decoration-color: #0087ff\">Dense</span>)                     │ (<span style=\"color: #00d7ff; text-decoration-color: #00d7ff\">None</span>, <span style=\"color: #00af00; text-decoration-color: #00af00\">1</span>)                   │              <span style=\"color: #00af00; text-decoration-color: #00af00\">33</span> │\n",
              "└──────────────────────────────────────┴─────────────────────────────┴─────────────────┘\n",
              "</pre>\n"
            ]
          },
          "metadata": {}
        },
        {
          "output_type": "display_data",
          "data": {
            "text/plain": [
              "\u001b[1m Total params: \u001b[0m\u001b[38;5;34m207,365\u001b[0m (810.02 KB)\n"
            ],
            "text/html": [
              "<pre style=\"white-space:pre;overflow-x:auto;line-height:normal;font-family:Menlo,'DejaVu Sans Mono',consolas,'Courier New',monospace\"><span style=\"font-weight: bold\"> Total params: </span><span style=\"color: #00af00; text-decoration-color: #00af00\">207,365</span> (810.02 KB)\n",
              "</pre>\n"
            ]
          },
          "metadata": {}
        },
        {
          "output_type": "display_data",
          "data": {
            "text/plain": [
              "\u001b[1m Trainable params: \u001b[0m\u001b[38;5;34m69,121\u001b[0m (270.00 KB)\n"
            ],
            "text/html": [
              "<pre style=\"white-space:pre;overflow-x:auto;line-height:normal;font-family:Menlo,'DejaVu Sans Mono',consolas,'Courier New',monospace\"><span style=\"font-weight: bold\"> Trainable params: </span><span style=\"color: #00af00; text-decoration-color: #00af00\">69,121</span> (270.00 KB)\n",
              "</pre>\n"
            ]
          },
          "metadata": {}
        },
        {
          "output_type": "display_data",
          "data": {
            "text/plain": [
              "\u001b[1m Non-trainable params: \u001b[0m\u001b[38;5;34m0\u001b[0m (0.00 B)\n"
            ],
            "text/html": [
              "<pre style=\"white-space:pre;overflow-x:auto;line-height:normal;font-family:Menlo,'DejaVu Sans Mono',consolas,'Courier New',monospace\"><span style=\"font-weight: bold\"> Non-trainable params: </span><span style=\"color: #00af00; text-decoration-color: #00af00\">0</span> (0.00 B)\n",
              "</pre>\n"
            ]
          },
          "metadata": {}
        },
        {
          "output_type": "display_data",
          "data": {
            "text/plain": [
              "\u001b[1m Optimizer params: \u001b[0m\u001b[38;5;34m138,244\u001b[0m (540.02 KB)\n"
            ],
            "text/html": [
              "<pre style=\"white-space:pre;overflow-x:auto;line-height:normal;font-family:Menlo,'DejaVu Sans Mono',consolas,'Courier New',monospace\"><span style=\"font-weight: bold\"> Optimizer params: </span><span style=\"color: #00af00; text-decoration-color: #00af00\">138,244</span> (540.02 KB)\n",
              "</pre>\n"
            ]
          },
          "metadata": {}
        }
      ]
    },
    {
      "cell_type": "markdown",
      "source": [
        "4. Fit XGBRegressor"
      ],
      "metadata": {
        "id": "30x5b0LFGs_B"
      }
    },
    {
      "cell_type": "code",
      "source": [
        "training_loop(xgb_model, X_train, X_test, y_train, y_test)"
      ],
      "metadata": {
        "colab": {
          "base_uri": "https://localhost:8080/"
        },
        "id": "6DVHkKjtGiFG",
        "outputId": "015e24c2-3a91-4870-bf81-ef405ee0138c"
      },
      "execution_count": null,
      "outputs": [
        {
          "output_type": "stream",
          "name": "stdout",
          "text": [
            "SVD - Mean Squared Error: 7.9433\n",
            "SVD - Reduction time: 6.8184 seconds\n",
            "SVD - Train time: 9.7928 seconds\n",
            "PCA - Mean Squared Error: 8.0777\n",
            "PCA - Reduction time: 1.5229 seconds\n",
            "PCA - Train time: 8.5816 seconds\n",
            "RP - Mean Squared Error: 8.0754\n",
            "RP - Reduction time: 1.3191 seconds\n",
            "RP - Train time: 4.8638 seconds\n"
          ]
        }
      ]
    },
    {
      "cell_type": "code",
      "source": [
        "params = xgb_model.get_params()\n",
        "print(params)"
      ],
      "metadata": {
        "colab": {
          "base_uri": "https://localhost:8080/"
        },
        "id": "_kpHJnj8yRkN",
        "outputId": "aa8a4c84-60d0-4247-f5e1-f2ff7eba7d98"
      },
      "execution_count": null,
      "outputs": [
        {
          "output_type": "stream",
          "name": "stdout",
          "text": [
            "{'objective': 'reg:squarederror', 'base_score': None, 'booster': None, 'callbacks': None, 'colsample_bylevel': None, 'colsample_bynode': None, 'colsample_bytree': None, 'device': None, 'early_stopping_rounds': None, 'enable_categorical': False, 'eval_metric': None, 'feature_types': None, 'gamma': None, 'grow_policy': None, 'importance_type': None, 'interaction_constraints': None, 'learning_rate': None, 'max_bin': None, 'max_cat_threshold': None, 'max_cat_to_onehot': None, 'max_delta_step': None, 'max_depth': None, 'max_leaves': None, 'min_child_weight': None, 'missing': nan, 'monotone_constraints': None, 'multi_strategy': None, 'n_estimators': None, 'n_jobs': None, 'num_parallel_tree': None, 'random_state': None, 'reg_alpha': None, 'reg_lambda': None, 'sampling_method': None, 'scale_pos_weight': None, 'subsample': None, 'tree_method': None, 'validate_parameters': None, 'verbosity': None}\n"
          ]
        }
      ]
    }
  ]
}